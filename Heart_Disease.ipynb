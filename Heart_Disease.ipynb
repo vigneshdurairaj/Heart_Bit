{
  "nbformat": 4,
  "nbformat_minor": 0,
  "metadata": {
    "colab": {
      "name": "Heart_New.ipynb",
      "provenance": []
    },
    "kernelspec": {
      "name": "python3",
      "display_name": "Python 3"
    }
  },
  "cells": [
    {
      "cell_type": "code",
      "metadata": {
        "id": "ZECNIe-d2Loz",
        "colab_type": "code",
        "outputId": "7cfd155b-3261-491f-9ce6-e12043d6f3f3",
        "colab": {
          "base_uri": "https://localhost:8080/",
          "height": 34
        }
      },
      "source": [
        "import numpy as np\n",
        "import pandas as pd\n",
        "import matplotlib.pyplot as plt\n",
        "import seaborn as sns\n",
        "\n",
        "%matplotlib inline\n",
        "\n",
        "import os\n",
        "print(os.listdir())\n",
        "\n",
        "import warnings\n",
        "warnings.filterwarnings('ignore')"
      ],
      "execution_count": 0,
      "outputs": [
        {
          "output_type": "stream",
          "text": [
            "['.config', 'sample_data']\n"
          ],
          "name": "stdout"
        }
      ]
    },
    {
      "cell_type": "code",
      "metadata": {
        "id": "wJ9e1ZD23O68",
        "colab_type": "code",
        "outputId": "e1b4a53c-3a4b-4b9e-c269-2d272622f85b",
        "colab": {
          "resources": {
            "http://localhost:8080/nbextensions/google.colab/files.js": {
              "data": "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",
              "ok": true,
              "headers": [
                [
                  "content-type",
                  "application/javascript"
                ]
              ],
              "status": 200,
              "status_text": ""
            }
          },
          "base_uri": "https://localhost:8080/",
          "height": 91
        }
      },
      "source": [
        "from google.colab import files\n",
        "files.upload()"
      ],
      "execution_count": 0,
      "outputs": [
        {
          "output_type": "display_data",
          "data": {
            "text/html": [
              "\n",
              "     <input type=\"file\" id=\"files-5a5b65a6-81b5-410e-9091-be3ec706b6d4\" name=\"files[]\" multiple disabled />\n",
              "     <output id=\"result-5a5b65a6-81b5-410e-9091-be3ec706b6d4\">\n",
              "      Upload widget is only available when the cell has been executed in the\n",
              "      current browser session. Please rerun this cell to enable.\n",
              "      </output>\n",
              "      <script src=\"/nbextensions/google.colab/files.js\"></script> "
            ],
            "text/plain": [
              "<IPython.core.display.HTML object>"
            ]
          },
          "metadata": {
            "tags": []
          }
        },
        {
          "output_type": "stream",
          "text": [
            "Saving kaggle.json to kaggle.json\n"
          ],
          "name": "stdout"
        },
        {
          "output_type": "execute_result",
          "data": {
            "text/plain": [
              "{'kaggle.json': b'{\"username\":\"vigneshdv\",\"key\":\"6dfefe6655dcbcf90e957f34dbf367f4\"}'}"
            ]
          },
          "metadata": {
            "tags": []
          },
          "execution_count": 2
        }
      ]
    },
    {
      "cell_type": "code",
      "metadata": {
        "id": "qjyMNbbh3V2q",
        "colab_type": "code",
        "outputId": "e8663856-ddd2-4e0d-8748-0d0b7e9482af",
        "colab": {
          "base_uri": "https://localhost:8080/",
          "height": 34
        }
      },
      "source": [
        "!ls -lha kaggle.json\n",
        "!pip install -q kaggle\n"
      ],
      "execution_count": 0,
      "outputs": [
        {
          "output_type": "stream",
          "text": [
            "-rw-r--r-- 1 root root 65 Oct 12 12:07 kaggle.json\n"
          ],
          "name": "stdout"
        }
      ]
    },
    {
      "cell_type": "code",
      "metadata": {
        "id": "sYsO_uho3hI9",
        "colab_type": "code",
        "colab": {}
      },
      "source": [
        "!mkdir -p ~/.kaggle\n",
        "!cp kaggle.json ~/.kaggle/\n",
        "!chmod 600 ~/.kaggle/kaggle.json"
      ],
      "execution_count": 0,
      "outputs": []
    },
    {
      "cell_type": "code",
      "metadata": {
        "id": "bcuQnczr3bMG",
        "colab_type": "code",
        "outputId": "1bd84507-bb59-40c8-8385-2f359550d193",
        "colab": {
          "base_uri": "https://localhost:8080/",
          "height": 68
        }
      },
      "source": [
        "!kaggle datasets download -d ronitf/heart-disease-uci"
      ],
      "execution_count": 0,
      "outputs": [
        {
          "output_type": "stream",
          "text": [
            "Downloading heart-disease-uci.zip to /content\n",
            "\r  0% 0.00/3.40k [00:00<?, ?B/s]\n",
            "\r100% 3.40k/3.40k [00:00<00:00, 2.97MB/s]\n"
          ],
          "name": "stdout"
        }
      ]
    },
    {
      "cell_type": "code",
      "metadata": {
        "id": "JHYuPvSr3jY9",
        "colab_type": "code",
        "outputId": "f1d7c947-7a06-450d-fd34-7459ecbd4a8b",
        "colab": {
          "base_uri": "https://localhost:8080/",
          "height": 34
        }
      },
      "source": [
        "from zipfile import ZipFile\n",
        "file_name = '/content/heart-disease-uci.zip'\n",
        "\n",
        "with ZipFile(file_name,'r') as zip:\n",
        "  zip.extractall()\n",
        "  print('Done')\n"
      ],
      "execution_count": 0,
      "outputs": [
        {
          "output_type": "stream",
          "text": [
            "Done\n"
          ],
          "name": "stdout"
        }
      ]
    },
    {
      "cell_type": "code",
      "metadata": {
        "id": "RAXxQprt3sQZ",
        "colab_type": "code",
        "colab": {}
      },
      "source": [
        "dataset = pd.read_csv(\"heart.csv\")\n"
      ],
      "execution_count": 0,
      "outputs": []
    },
    {
      "cell_type": "code",
      "metadata": {
        "id": "UQ0pEoBj31to",
        "colab_type": "code",
        "outputId": "1639a9be-8ab4-48b2-8e33-6ca4b7aaf6d7",
        "colab": {
          "base_uri": "https://localhost:8080/",
          "height": 34
        }
      },
      "source": [
        "dataset.shape"
      ],
      "execution_count": 0,
      "outputs": [
        {
          "output_type": "execute_result",
          "data": {
            "text/plain": [
              "(303, 14)"
            ]
          },
          "metadata": {
            "tags": []
          },
          "execution_count": 7
        }
      ]
    },
    {
      "cell_type": "code",
      "metadata": {
        "id": "VGNMMHCI36Vv",
        "colab_type": "code",
        "outputId": "98b6d885-2eb5-4ccf-b009-49cb1cb06365",
        "colab": {
          "base_uri": "https://localhost:8080/",
          "height": 204
        }
      },
      "source": [
        "dataset.head()"
      ],
      "execution_count": 0,
      "outputs": [
        {
          "output_type": "execute_result",
          "data": {
            "text/html": [
              "<div>\n",
              "<style scoped>\n",
              "    .dataframe tbody tr th:only-of-type {\n",
              "        vertical-align: middle;\n",
              "    }\n",
              "\n",
              "    .dataframe tbody tr th {\n",
              "        vertical-align: top;\n",
              "    }\n",
              "\n",
              "    .dataframe thead th {\n",
              "        text-align: right;\n",
              "    }\n",
              "</style>\n",
              "<table border=\"1\" class=\"dataframe\">\n",
              "  <thead>\n",
              "    <tr style=\"text-align: right;\">\n",
              "      <th></th>\n",
              "      <th>age</th>\n",
              "      <th>sex</th>\n",
              "      <th>cp</th>\n",
              "      <th>trestbps</th>\n",
              "      <th>chol</th>\n",
              "      <th>fbs</th>\n",
              "      <th>restecg</th>\n",
              "      <th>thalach</th>\n",
              "      <th>exang</th>\n",
              "      <th>oldpeak</th>\n",
              "      <th>slope</th>\n",
              "      <th>ca</th>\n",
              "      <th>thal</th>\n",
              "      <th>target</th>\n",
              "    </tr>\n",
              "  </thead>\n",
              "  <tbody>\n",
              "    <tr>\n",
              "      <th>0</th>\n",
              "      <td>63</td>\n",
              "      <td>1</td>\n",
              "      <td>3</td>\n",
              "      <td>145</td>\n",
              "      <td>233</td>\n",
              "      <td>1</td>\n",
              "      <td>0</td>\n",
              "      <td>150</td>\n",
              "      <td>0</td>\n",
              "      <td>2.3</td>\n",
              "      <td>0</td>\n",
              "      <td>0</td>\n",
              "      <td>1</td>\n",
              "      <td>1</td>\n",
              "    </tr>\n",
              "    <tr>\n",
              "      <th>1</th>\n",
              "      <td>37</td>\n",
              "      <td>1</td>\n",
              "      <td>2</td>\n",
              "      <td>130</td>\n",
              "      <td>250</td>\n",
              "      <td>0</td>\n",
              "      <td>1</td>\n",
              "      <td>187</td>\n",
              "      <td>0</td>\n",
              "      <td>3.5</td>\n",
              "      <td>0</td>\n",
              "      <td>0</td>\n",
              "      <td>2</td>\n",
              "      <td>1</td>\n",
              "    </tr>\n",
              "    <tr>\n",
              "      <th>2</th>\n",
              "      <td>41</td>\n",
              "      <td>0</td>\n",
              "      <td>1</td>\n",
              "      <td>130</td>\n",
              "      <td>204</td>\n",
              "      <td>0</td>\n",
              "      <td>0</td>\n",
              "      <td>172</td>\n",
              "      <td>0</td>\n",
              "      <td>1.4</td>\n",
              "      <td>2</td>\n",
              "      <td>0</td>\n",
              "      <td>2</td>\n",
              "      <td>1</td>\n",
              "    </tr>\n",
              "    <tr>\n",
              "      <th>3</th>\n",
              "      <td>56</td>\n",
              "      <td>1</td>\n",
              "      <td>1</td>\n",
              "      <td>120</td>\n",
              "      <td>236</td>\n",
              "      <td>0</td>\n",
              "      <td>1</td>\n",
              "      <td>178</td>\n",
              "      <td>0</td>\n",
              "      <td>0.8</td>\n",
              "      <td>2</td>\n",
              "      <td>0</td>\n",
              "      <td>2</td>\n",
              "      <td>1</td>\n",
              "    </tr>\n",
              "    <tr>\n",
              "      <th>4</th>\n",
              "      <td>57</td>\n",
              "      <td>0</td>\n",
              "      <td>0</td>\n",
              "      <td>120</td>\n",
              "      <td>354</td>\n",
              "      <td>0</td>\n",
              "      <td>1</td>\n",
              "      <td>163</td>\n",
              "      <td>1</td>\n",
              "      <td>0.6</td>\n",
              "      <td>2</td>\n",
              "      <td>0</td>\n",
              "      <td>2</td>\n",
              "      <td>1</td>\n",
              "    </tr>\n",
              "  </tbody>\n",
              "</table>\n",
              "</div>"
            ],
            "text/plain": [
              "   age  sex  cp  trestbps  chol  fbs  ...  exang  oldpeak  slope  ca  thal  target\n",
              "0   63    1   3       145   233    1  ...      0      2.3      0   0     1       1\n",
              "1   37    1   2       130   250    0  ...      0      3.5      0   0     2       1\n",
              "2   41    0   1       130   204    0  ...      0      1.4      2   0     2       1\n",
              "3   56    1   1       120   236    0  ...      0      0.8      2   0     2       1\n",
              "4   57    0   0       120   354    0  ...      1      0.6      2   0     2       1\n",
              "\n",
              "[5 rows x 14 columns]"
            ]
          },
          "metadata": {
            "tags": []
          },
          "execution_count": 8
        }
      ]
    },
    {
      "cell_type": "code",
      "metadata": {
        "id": "-Q_vV1uH39l5",
        "colab_type": "code",
        "outputId": "3ac417ee-3c85-46f7-aa0c-4341ae90bda6",
        "colab": {
          "base_uri": "https://localhost:8080/",
          "height": 204
        }
      },
      "source": [
        "dataset.sample(5)"
      ],
      "execution_count": 0,
      "outputs": [
        {
          "output_type": "execute_result",
          "data": {
            "text/html": [
              "<div>\n",
              "<style scoped>\n",
              "    .dataframe tbody tr th:only-of-type {\n",
              "        vertical-align: middle;\n",
              "    }\n",
              "\n",
              "    .dataframe tbody tr th {\n",
              "        vertical-align: top;\n",
              "    }\n",
              "\n",
              "    .dataframe thead th {\n",
              "        text-align: right;\n",
              "    }\n",
              "</style>\n",
              "<table border=\"1\" class=\"dataframe\">\n",
              "  <thead>\n",
              "    <tr style=\"text-align: right;\">\n",
              "      <th></th>\n",
              "      <th>age</th>\n",
              "      <th>sex</th>\n",
              "      <th>cp</th>\n",
              "      <th>trestbps</th>\n",
              "      <th>chol</th>\n",
              "      <th>fbs</th>\n",
              "      <th>restecg</th>\n",
              "      <th>thalach</th>\n",
              "      <th>exang</th>\n",
              "      <th>oldpeak</th>\n",
              "      <th>slope</th>\n",
              "      <th>ca</th>\n",
              "      <th>thal</th>\n",
              "      <th>target</th>\n",
              "    </tr>\n",
              "  </thead>\n",
              "  <tbody>\n",
              "    <tr>\n",
              "      <th>0</th>\n",
              "      <td>63</td>\n",
              "      <td>1</td>\n",
              "      <td>3</td>\n",
              "      <td>145</td>\n",
              "      <td>233</td>\n",
              "      <td>1</td>\n",
              "      <td>0</td>\n",
              "      <td>150</td>\n",
              "      <td>0</td>\n",
              "      <td>2.3</td>\n",
              "      <td>0</td>\n",
              "      <td>0</td>\n",
              "      <td>1</td>\n",
              "      <td>1</td>\n",
              "    </tr>\n",
              "    <tr>\n",
              "      <th>46</th>\n",
              "      <td>44</td>\n",
              "      <td>1</td>\n",
              "      <td>2</td>\n",
              "      <td>140</td>\n",
              "      <td>235</td>\n",
              "      <td>0</td>\n",
              "      <td>0</td>\n",
              "      <td>180</td>\n",
              "      <td>0</td>\n",
              "      <td>0.0</td>\n",
              "      <td>2</td>\n",
              "      <td>0</td>\n",
              "      <td>2</td>\n",
              "      <td>1</td>\n",
              "    </tr>\n",
              "    <tr>\n",
              "      <th>234</th>\n",
              "      <td>70</td>\n",
              "      <td>1</td>\n",
              "      <td>0</td>\n",
              "      <td>130</td>\n",
              "      <td>322</td>\n",
              "      <td>0</td>\n",
              "      <td>0</td>\n",
              "      <td>109</td>\n",
              "      <td>0</td>\n",
              "      <td>2.4</td>\n",
              "      <td>1</td>\n",
              "      <td>3</td>\n",
              "      <td>2</td>\n",
              "      <td>0</td>\n",
              "    </tr>\n",
              "    <tr>\n",
              "      <th>285</th>\n",
              "      <td>46</td>\n",
              "      <td>1</td>\n",
              "      <td>0</td>\n",
              "      <td>140</td>\n",
              "      <td>311</td>\n",
              "      <td>0</td>\n",
              "      <td>1</td>\n",
              "      <td>120</td>\n",
              "      <td>1</td>\n",
              "      <td>1.8</td>\n",
              "      <td>1</td>\n",
              "      <td>2</td>\n",
              "      <td>3</td>\n",
              "      <td>0</td>\n",
              "    </tr>\n",
              "    <tr>\n",
              "      <th>40</th>\n",
              "      <td>51</td>\n",
              "      <td>0</td>\n",
              "      <td>2</td>\n",
              "      <td>140</td>\n",
              "      <td>308</td>\n",
              "      <td>0</td>\n",
              "      <td>0</td>\n",
              "      <td>142</td>\n",
              "      <td>0</td>\n",
              "      <td>1.5</td>\n",
              "      <td>2</td>\n",
              "      <td>1</td>\n",
              "      <td>2</td>\n",
              "      <td>1</td>\n",
              "    </tr>\n",
              "  </tbody>\n",
              "</table>\n",
              "</div>"
            ],
            "text/plain": [
              "     age  sex  cp  trestbps  chol  fbs  ...  exang  oldpeak  slope  ca  thal  target\n",
              "0     63    1   3       145   233    1  ...      0      2.3      0   0     1       1\n",
              "46    44    1   2       140   235    0  ...      0      0.0      2   0     2       1\n",
              "234   70    1   0       130   322    0  ...      0      2.4      1   3     2       0\n",
              "285   46    1   0       140   311    0  ...      1      1.8      1   2     3       0\n",
              "40    51    0   2       140   308    0  ...      0      1.5      2   1     2       1\n",
              "\n",
              "[5 rows x 14 columns]"
            ]
          },
          "metadata": {
            "tags": []
          },
          "execution_count": 9
        }
      ]
    },
    {
      "cell_type": "code",
      "metadata": {
        "id": "tBj1HirJ4A1r",
        "colab_type": "code",
        "outputId": "59f669f4-2c67-46c0-e18f-2672eb3ad669",
        "colab": {
          "base_uri": "https://localhost:8080/",
          "height": 317
        }
      },
      "source": [
        "dataset.describe()"
      ],
      "execution_count": 0,
      "outputs": [
        {
          "output_type": "execute_result",
          "data": {
            "text/html": [
              "<div>\n",
              "<style scoped>\n",
              "    .dataframe tbody tr th:only-of-type {\n",
              "        vertical-align: middle;\n",
              "    }\n",
              "\n",
              "    .dataframe tbody tr th {\n",
              "        vertical-align: top;\n",
              "    }\n",
              "\n",
              "    .dataframe thead th {\n",
              "        text-align: right;\n",
              "    }\n",
              "</style>\n",
              "<table border=\"1\" class=\"dataframe\">\n",
              "  <thead>\n",
              "    <tr style=\"text-align: right;\">\n",
              "      <th></th>\n",
              "      <th>age</th>\n",
              "      <th>sex</th>\n",
              "      <th>cp</th>\n",
              "      <th>trestbps</th>\n",
              "      <th>chol</th>\n",
              "      <th>fbs</th>\n",
              "      <th>restecg</th>\n",
              "      <th>thalach</th>\n",
              "      <th>exang</th>\n",
              "      <th>oldpeak</th>\n",
              "      <th>slope</th>\n",
              "      <th>ca</th>\n",
              "      <th>thal</th>\n",
              "      <th>target</th>\n",
              "    </tr>\n",
              "  </thead>\n",
              "  <tbody>\n",
              "    <tr>\n",
              "      <th>count</th>\n",
              "      <td>303.000000</td>\n",
              "      <td>303.000000</td>\n",
              "      <td>303.000000</td>\n",
              "      <td>303.000000</td>\n",
              "      <td>303.000000</td>\n",
              "      <td>303.000000</td>\n",
              "      <td>303.000000</td>\n",
              "      <td>303.000000</td>\n",
              "      <td>303.000000</td>\n",
              "      <td>303.000000</td>\n",
              "      <td>303.000000</td>\n",
              "      <td>303.000000</td>\n",
              "      <td>303.000000</td>\n",
              "      <td>303.000000</td>\n",
              "    </tr>\n",
              "    <tr>\n",
              "      <th>mean</th>\n",
              "      <td>54.366337</td>\n",
              "      <td>0.683168</td>\n",
              "      <td>0.966997</td>\n",
              "      <td>131.623762</td>\n",
              "      <td>246.264026</td>\n",
              "      <td>0.148515</td>\n",
              "      <td>0.528053</td>\n",
              "      <td>149.646865</td>\n",
              "      <td>0.326733</td>\n",
              "      <td>1.039604</td>\n",
              "      <td>1.399340</td>\n",
              "      <td>0.729373</td>\n",
              "      <td>2.313531</td>\n",
              "      <td>0.544554</td>\n",
              "    </tr>\n",
              "    <tr>\n",
              "      <th>std</th>\n",
              "      <td>9.082101</td>\n",
              "      <td>0.466011</td>\n",
              "      <td>1.032052</td>\n",
              "      <td>17.538143</td>\n",
              "      <td>51.830751</td>\n",
              "      <td>0.356198</td>\n",
              "      <td>0.525860</td>\n",
              "      <td>22.905161</td>\n",
              "      <td>0.469794</td>\n",
              "      <td>1.161075</td>\n",
              "      <td>0.616226</td>\n",
              "      <td>1.022606</td>\n",
              "      <td>0.612277</td>\n",
              "      <td>0.498835</td>\n",
              "    </tr>\n",
              "    <tr>\n",
              "      <th>min</th>\n",
              "      <td>29.000000</td>\n",
              "      <td>0.000000</td>\n",
              "      <td>0.000000</td>\n",
              "      <td>94.000000</td>\n",
              "      <td>126.000000</td>\n",
              "      <td>0.000000</td>\n",
              "      <td>0.000000</td>\n",
              "      <td>71.000000</td>\n",
              "      <td>0.000000</td>\n",
              "      <td>0.000000</td>\n",
              "      <td>0.000000</td>\n",
              "      <td>0.000000</td>\n",
              "      <td>0.000000</td>\n",
              "      <td>0.000000</td>\n",
              "    </tr>\n",
              "    <tr>\n",
              "      <th>25%</th>\n",
              "      <td>47.500000</td>\n",
              "      <td>0.000000</td>\n",
              "      <td>0.000000</td>\n",
              "      <td>120.000000</td>\n",
              "      <td>211.000000</td>\n",
              "      <td>0.000000</td>\n",
              "      <td>0.000000</td>\n",
              "      <td>133.500000</td>\n",
              "      <td>0.000000</td>\n",
              "      <td>0.000000</td>\n",
              "      <td>1.000000</td>\n",
              "      <td>0.000000</td>\n",
              "      <td>2.000000</td>\n",
              "      <td>0.000000</td>\n",
              "    </tr>\n",
              "    <tr>\n",
              "      <th>50%</th>\n",
              "      <td>55.000000</td>\n",
              "      <td>1.000000</td>\n",
              "      <td>1.000000</td>\n",
              "      <td>130.000000</td>\n",
              "      <td>240.000000</td>\n",
              "      <td>0.000000</td>\n",
              "      <td>1.000000</td>\n",
              "      <td>153.000000</td>\n",
              "      <td>0.000000</td>\n",
              "      <td>0.800000</td>\n",
              "      <td>1.000000</td>\n",
              "      <td>0.000000</td>\n",
              "      <td>2.000000</td>\n",
              "      <td>1.000000</td>\n",
              "    </tr>\n",
              "    <tr>\n",
              "      <th>75%</th>\n",
              "      <td>61.000000</td>\n",
              "      <td>1.000000</td>\n",
              "      <td>2.000000</td>\n",
              "      <td>140.000000</td>\n",
              "      <td>274.500000</td>\n",
              "      <td>0.000000</td>\n",
              "      <td>1.000000</td>\n",
              "      <td>166.000000</td>\n",
              "      <td>1.000000</td>\n",
              "      <td>1.600000</td>\n",
              "      <td>2.000000</td>\n",
              "      <td>1.000000</td>\n",
              "      <td>3.000000</td>\n",
              "      <td>1.000000</td>\n",
              "    </tr>\n",
              "    <tr>\n",
              "      <th>max</th>\n",
              "      <td>77.000000</td>\n",
              "      <td>1.000000</td>\n",
              "      <td>3.000000</td>\n",
              "      <td>200.000000</td>\n",
              "      <td>564.000000</td>\n",
              "      <td>1.000000</td>\n",
              "      <td>2.000000</td>\n",
              "      <td>202.000000</td>\n",
              "      <td>1.000000</td>\n",
              "      <td>6.200000</td>\n",
              "      <td>2.000000</td>\n",
              "      <td>4.000000</td>\n",
              "      <td>3.000000</td>\n",
              "      <td>1.000000</td>\n",
              "    </tr>\n",
              "  </tbody>\n",
              "</table>\n",
              "</div>"
            ],
            "text/plain": [
              "              age         sex          cp  ...          ca        thal      target\n",
              "count  303.000000  303.000000  303.000000  ...  303.000000  303.000000  303.000000\n",
              "mean    54.366337    0.683168    0.966997  ...    0.729373    2.313531    0.544554\n",
              "std      9.082101    0.466011    1.032052  ...    1.022606    0.612277    0.498835\n",
              "min     29.000000    0.000000    0.000000  ...    0.000000    0.000000    0.000000\n",
              "25%     47.500000    0.000000    0.000000  ...    0.000000    2.000000    0.000000\n",
              "50%     55.000000    1.000000    1.000000  ...    0.000000    2.000000    1.000000\n",
              "75%     61.000000    1.000000    2.000000  ...    1.000000    3.000000    1.000000\n",
              "max     77.000000    1.000000    3.000000  ...    4.000000    3.000000    1.000000\n",
              "\n",
              "[8 rows x 14 columns]"
            ]
          },
          "metadata": {
            "tags": []
          },
          "execution_count": 11
        }
      ]
    },
    {
      "cell_type": "code",
      "metadata": {
        "id": "QBMa_-vR4Hxm",
        "colab_type": "code",
        "outputId": "a58a3e8f-d822-4fd4-f223-dc5c94ac8016",
        "colab": {
          "base_uri": "https://localhost:8080/",
          "height": 340
        }
      },
      "source": [
        "dataset.info()"
      ],
      "execution_count": 0,
      "outputs": [
        {
          "output_type": "stream",
          "text": [
            "<class 'pandas.core.frame.DataFrame'>\n",
            "RangeIndex: 303 entries, 0 to 302\n",
            "Data columns (total 14 columns):\n",
            "age         303 non-null int64\n",
            "sex         303 non-null int64\n",
            "cp          303 non-null int64\n",
            "trestbps    303 non-null int64\n",
            "chol        303 non-null int64\n",
            "fbs         303 non-null int64\n",
            "restecg     303 non-null int64\n",
            "thalach     303 non-null int64\n",
            "exang       303 non-null int64\n",
            "oldpeak     303 non-null float64\n",
            "slope       303 non-null int64\n",
            "ca          303 non-null int64\n",
            "thal        303 non-null int64\n",
            "target      303 non-null int64\n",
            "dtypes: float64(1), int64(13)\n",
            "memory usage: 33.2 KB\n"
          ],
          "name": "stdout"
        }
      ]
    },
    {
      "cell_type": "code",
      "metadata": {
        "id": "YMvB4DFP4MHe",
        "colab_type": "code",
        "outputId": "8cfbcc41-a9cc-4f0f-bbcd-706e936da933",
        "colab": {
          "base_uri": "https://localhost:8080/",
          "height": 258
        }
      },
      "source": [
        "\n",
        "info = [\"age\",\"1: male, 0: female\",\"chest pain type, 1: typical angina, 2: atypical angina, 3: non-anginal pain, 4: asymptomatic\",\"resting blood pressure\",\" serum cholestoral in mg/dl\",\"fasting blood sugar > 120 mg/dl\",\"resting electrocardiographic results (values 0,1,2)\",\" maximum heart rate achieved\",\"exercise induced angina\",\"oldpeak = ST depression induced by exercise relative to rest\",\"the slope of the peak exercise ST segment\",\"number of major vessels (0-3) colored by flourosopy\",\"thal: 3 = normal; 6 = fixed defect; 7 = reversable defect\"]\n",
        "\n",
        "\n",
        "\n",
        "for i in range(len(info)):\n",
        "    print(dataset.columns[i]+\":\\t\\t\\t\"+info[i])"
      ],
      "execution_count": 0,
      "outputs": [
        {
          "output_type": "stream",
          "text": [
            "age:\t\t\tage\n",
            "sex:\t\t\t1: male, 0: female\n",
            "cp:\t\t\tchest pain type, 1: typical angina, 2: atypical angina, 3: non-anginal pain, 4: asymptomatic\n",
            "trestbps:\t\t\tresting blood pressure\n",
            "chol:\t\t\t serum cholestoral in mg/dl\n",
            "fbs:\t\t\tfasting blood sugar > 120 mg/dl\n",
            "restecg:\t\t\tresting electrocardiographic results (values 0,1,2)\n",
            "thalach:\t\t\t maximum heart rate achieved\n",
            "exang:\t\t\texercise induced angina\n",
            "oldpeak:\t\t\toldpeak = ST depression induced by exercise relative to rest\n",
            "slope:\t\t\tthe slope of the peak exercise ST segment\n",
            "ca:\t\t\tnumber of major vessels (0-3) colored by flourosopy\n",
            "thal:\t\t\tthal: 3 = normal; 6 = fixed defect; 7 = reversable defect\n"
          ],
          "name": "stdout"
        }
      ]
    },
    {
      "cell_type": "code",
      "metadata": {
        "id": "Y3o5zZhZ4Yky",
        "colab_type": "code",
        "outputId": "7b7efe9f-99ae-40ce-b911-d3cf6331fff9",
        "colab": {
          "base_uri": "https://localhost:8080/",
          "height": 170
        }
      },
      "source": [
        "dataset[\"target\"].describe()"
      ],
      "execution_count": 0,
      "outputs": [
        {
          "output_type": "execute_result",
          "data": {
            "text/plain": [
              "count    303.000000\n",
              "mean       0.544554\n",
              "std        0.498835\n",
              "min        0.000000\n",
              "25%        0.000000\n",
              "50%        1.000000\n",
              "75%        1.000000\n",
              "max        1.000000\n",
              "Name: target, dtype: float64"
            ]
          },
          "metadata": {
            "tags": []
          },
          "execution_count": 14
        }
      ]
    },
    {
      "cell_type": "code",
      "metadata": {
        "id": "AUpUh9gi4yF8",
        "colab_type": "code",
        "outputId": "ccac902d-db51-4688-fa16-b210ed1661bf",
        "colab": {
          "base_uri": "https://localhost:8080/",
          "height": 34
        }
      },
      "source": [
        "dataset[\"target\"].unique()"
      ],
      "execution_count": 0,
      "outputs": [
        {
          "output_type": "execute_result",
          "data": {
            "text/plain": [
              "array([1, 0])"
            ]
          },
          "metadata": {
            "tags": []
          },
          "execution_count": 15
        }
      ]
    },
    {
      "cell_type": "code",
      "metadata": {
        "id": "ZApTdpHV42Ws",
        "colab_type": "code",
        "outputId": "4995ac87-17f6-4abe-d0c2-9129cd04e5a2",
        "colab": {
          "base_uri": "https://localhost:8080/",
          "height": 272
        }
      },
      "source": [
        "print(dataset.corr()[\"target\"].abs().sort_values(ascending=False))"
      ],
      "execution_count": 0,
      "outputs": [
        {
          "output_type": "stream",
          "text": [
            "target      1.000000\n",
            "exang       0.436757\n",
            "cp          0.433798\n",
            "oldpeak     0.430696\n",
            "thalach     0.421741\n",
            "ca          0.391724\n",
            "slope       0.345877\n",
            "thal        0.344029\n",
            "sex         0.280937\n",
            "age         0.225439\n",
            "trestbps    0.144931\n",
            "restecg     0.137230\n",
            "chol        0.085239\n",
            "fbs         0.028046\n",
            "Name: target, dtype: float64\n"
          ],
          "name": "stdout"
        }
      ]
    },
    {
      "cell_type": "markdown",
      "metadata": {
        "id": "dFNulWHS6cJ0",
        "colab_type": "text"
      },
      "source": [
        "# Exploratory Data Analysis"
      ]
    },
    {
      "cell_type": "code",
      "metadata": {
        "id": "l0AfzG-c6bFF",
        "colab_type": "code",
        "outputId": "738f133d-9dbd-4b0c-dfd6-aa8cacfb1827",
        "colab": {
          "base_uri": "https://localhost:8080/",
          "height": 334
        }
      },
      "source": [
        "y = dataset[\"target\"]\n",
        "\n",
        "sns.countplot(y)\n",
        "\n",
        "\n",
        "target_temp = dataset.target.value_counts()\n",
        "\n",
        "print(target_temp)"
      ],
      "execution_count": 0,
      "outputs": [
        {
          "output_type": "stream",
          "text": [
            "1    165\n",
            "0    138\n",
            "Name: target, dtype: int64\n"
          ],
          "name": "stdout"
        },
        {
          "output_type": "display_data",
          "data": {
            "image/png": "[encoded data removed]",
            "text/plain": [
              "<Figure size 432x288 with 1 Axes>"
            ]
          },
          "metadata": {
            "tags": []
          }
        }
      ]
    },
    {
      "cell_type": "code",
      "metadata": {
        "id": "dExgBp-V5TzO",
        "colab_type": "code",
        "outputId": "9ba1cf95-e257-49a4-8afa-d35fc93ed697",
        "colab": {
          "base_uri": "https://localhost:8080/",
          "height": 51
        }
      },
      "source": [
        "\n",
        "print(\"Percentage of patience without heart problems: \"+str(round(target_temp[0]*100/303,2)))\n",
        "print(\"Percentage of patience with heart problems: \"+str(round(target_temp[1]*100/303,2)))"
      ],
      "execution_count": 0,
      "outputs": [
        {
          "output_type": "stream",
          "text": [
            "Percentage of patience without heart problems: 45.54\n",
            "Percentage of patience with heart problems: 54.46\n"
          ],
          "name": "stdout"
        }
      ]
    },
    {
      "cell_type": "markdown",
      "metadata": {
        "id": "gIhMlRc26vwB",
        "colab_type": "text"
      },
      "source": [
        "# Analyzing other Attributes"
      ]
    },
    {
      "cell_type": "code",
      "metadata": {
        "id": "1PDQNz6c6rIe",
        "colab_type": "code",
        "outputId": "9a583ecc-b1be-4da5-82d8-df35401d39a2",
        "colab": {
          "base_uri": "https://localhost:8080/",
          "height": 34
        }
      },
      "source": [
        "dataset[\"sex\"].unique()"
      ],
      "execution_count": 0,
      "outputs": [
        {
          "output_type": "execute_result",
          "data": {
            "text/plain": [
              "array([1, 0])"
            ]
          },
          "metadata": {
            "tags": []
          },
          "execution_count": 19
        }
      ]
    },
    {
      "cell_type": "code",
      "metadata": {
        "id": "fhoY7m3w65UK",
        "colab_type": "code",
        "outputId": "867f6e49-8d4e-46cd-c981-ada021f4ce09",
        "colab": {
          "base_uri": "https://localhost:8080/",
          "height": 300
        }
      },
      "source": [
        "sns.barplot(dataset[\"sex\"],y)\n"
      ],
      "execution_count": 0,
      "outputs": [
        {
          "output_type": "execute_result",
          "data": {
            "text/plain": [
              "<matplotlib.axes._subplots.AxesSubplot at 0x7fc427fbb438>"
            ]
          },
          "metadata": {
            "tags": []
          },
          "execution_count": 20
        },
        {
          "output_type": "display_data",
          "data": {
            "image/png": "[encoded data removed]",
            "text/plain": [
              "<Figure size 432x288 with 1 Axes>"
            ]
          },
          "metadata": {
            "tags": []
          }
        }
      ]
    },
    {
      "cell_type": "code",
      "metadata": {
        "id": "JKywvfOR68FE",
        "colab_type": "code",
        "outputId": "999f4f4f-9217-4816-f4bd-a8b85e104152",
        "colab": {
          "base_uri": "https://localhost:8080/",
          "height": 34
        }
      },
      "source": [
        "dataset[\"cp\"].unique()"
      ],
      "execution_count": 0,
      "outputs": [
        {
          "output_type": "execute_result",
          "data": {
            "text/plain": [
              "array([3, 2, 1, 0])"
            ]
          },
          "metadata": {
            "tags": []
          },
          "execution_count": 21
        }
      ]
    },
    {
      "cell_type": "code",
      "metadata": {
        "id": "DVulTy4x6_5n",
        "colab_type": "code",
        "outputId": "90dd9e89-05ca-4edb-d881-cce696b5580c",
        "colab": {
          "base_uri": "https://localhost:8080/",
          "height": 300
        }
      },
      "source": [
        "\n",
        "sns.barplot(dataset[\"cp\"],y)"
      ],
      "execution_count": 0,
      "outputs": [
        {
          "output_type": "execute_result",
          "data": {
            "text/plain": [
              "<matplotlib.axes._subplots.AxesSubplot at 0x7fc427f62f98>"
            ]
          },
          "metadata": {
            "tags": []
          },
          "execution_count": 22
        },
        {
          "output_type": "display_data",
          "data": {
            "image/png": "[encoded data removed]",
            "text/plain": [
              "<Figure size 432x288 with 1 Axes>"
            ]
          },
          "metadata": {
            "tags": []
          }
        }
      ]
    },
    {
      "cell_type": "code",
      "metadata": {
        "id": "rmK1qMGx7Cnq",
        "colab_type": "code",
        "outputId": "75baaa9c-26ca-4f7e-e3ff-8a569686828a",
        "colab": {
          "base_uri": "https://localhost:8080/",
          "height": 170
        }
      },
      "source": [
        "dataset[\"fbs\"].describe()"
      ],
      "execution_count": 0,
      "outputs": [
        {
          "output_type": "execute_result",
          "data": {
            "text/plain": [
              "count    303.000000\n",
              "mean       0.148515\n",
              "std        0.356198\n",
              "min        0.000000\n",
              "25%        0.000000\n",
              "50%        0.000000\n",
              "75%        0.000000\n",
              "max        1.000000\n",
              "Name: fbs, dtype: float64"
            ]
          },
          "metadata": {
            "tags": []
          },
          "execution_count": 23
        }
      ]
    },
    {
      "cell_type": "code",
      "metadata": {
        "id": "5yyRpmF47GR1",
        "colab_type": "code",
        "outputId": "5e61be63-08d9-4de1-834f-fa62274a0329",
        "colab": {
          "base_uri": "https://localhost:8080/",
          "height": 34
        }
      },
      "source": [
        "dataset[\"fbs\"].unique()"
      ],
      "execution_count": 0,
      "outputs": [
        {
          "output_type": "execute_result",
          "data": {
            "text/plain": [
              "array([1, 0])"
            ]
          },
          "metadata": {
            "tags": []
          },
          "execution_count": 24
        }
      ]
    },
    {
      "cell_type": "code",
      "metadata": {
        "id": "ul93-3uw7JEh",
        "colab_type": "code",
        "outputId": "75950ffc-c6c9-4c9f-b31d-415199430ae2",
        "colab": {
          "base_uri": "https://localhost:8080/",
          "height": 300
        }
      },
      "source": [
        "sns.barplot(dataset[\"fbs\"],y)"
      ],
      "execution_count": 0,
      "outputs": [
        {
          "output_type": "execute_result",
          "data": {
            "text/plain": [
              "<matplotlib.axes._subplots.AxesSubplot at 0x7fc4256d27b8>"
            ]
          },
          "metadata": {
            "tags": []
          },
          "execution_count": 25
        },
        {
          "output_type": "display_data",
          "data": {
            "image/png": "[encoded data removed]",
            "text/plain": [
              "<Figure size 432x288 with 1 Axes>"
            ]
          },
          "metadata": {
            "tags": []
          }
        }
      ]
    },
    {
      "cell_type": "code",
      "metadata": {
        "id": "la83r4vq7Os2",
        "colab_type": "code",
        "outputId": "04284326-c8ec-406e-c7ff-b0ce48b3249d",
        "colab": {
          "base_uri": "https://localhost:8080/",
          "height": 34
        }
      },
      "source": [
        "dataset[\"restecg\"].unique()"
      ],
      "execution_count": 0,
      "outputs": [
        {
          "output_type": "execute_result",
          "data": {
            "text/plain": [
              "array([0, 1, 2])"
            ]
          },
          "metadata": {
            "tags": []
          },
          "execution_count": 26
        }
      ]
    },
    {
      "cell_type": "code",
      "metadata": {
        "id": "hZGUuEXM7Roy",
        "colab_type": "code",
        "outputId": "966a8895-3010-4971-fc49-842482634882",
        "colab": {
          "base_uri": "https://localhost:8080/",
          "height": 300
        }
      },
      "source": [
        "sns.barplot(dataset[\"restecg\"],y)"
      ],
      "execution_count": 0,
      "outputs": [
        {
          "output_type": "execute_result",
          "data": {
            "text/plain": [
              "<matplotlib.axes._subplots.AxesSubplot at 0x7fc42568c940>"
            ]
          },
          "metadata": {
            "tags": []
          },
          "execution_count": 27
        },
        {
          "output_type": "display_data",
          "data": {
            "image/png": "[encoded data removed]",
            "text/plain": [
              "<Figure size 432x288 with 1 Axes>"
            ]
          },
          "metadata": {
            "tags": []
          }
        }
      ]
    },
    {
      "cell_type": "code",
      "metadata": {
        "id": "_rv5C4L27U4m",
        "colab_type": "code",
        "outputId": "f5f406b4-c115-4ab7-f177-3293df73680a",
        "colab": {
          "base_uri": "https://localhost:8080/",
          "height": 34
        }
      },
      "source": [
        "\n",
        "dataset[\"exang\"].unique()"
      ],
      "execution_count": 0,
      "outputs": [
        {
          "output_type": "execute_result",
          "data": {
            "text/plain": [
              "array([0, 1])"
            ]
          },
          "metadata": {
            "tags": []
          },
          "execution_count": 28
        }
      ]
    },
    {
      "cell_type": "code",
      "metadata": {
        "id": "szGcrUW87Xey",
        "colab_type": "code",
        "outputId": "1be1a04a-d5bd-4fd3-cf24-113f15dc56d7",
        "colab": {
          "base_uri": "https://localhost:8080/",
          "height": 300
        }
      },
      "source": [
        "sns.barplot(dataset[\"exang\"],y)"
      ],
      "execution_count": 0,
      "outputs": [
        {
          "output_type": "execute_result",
          "data": {
            "text/plain": [
              "<matplotlib.axes._subplots.AxesSubplot at 0x7fc4256b8438>"
            ]
          },
          "metadata": {
            "tags": []
          },
          "execution_count": 29
        },
        {
          "output_type": "display_data",
          "data": {
            "image/png": "[encoded data removed]",
            "text/plain": [
              "<Figure size 432x288 with 1 Axes>"
            ]
          },
          "metadata": {
            "tags": []
          }
        }
      ]
    },
    {
      "cell_type": "code",
      "metadata": {
        "id": "tMEzbnJF7bMi",
        "colab_type": "code",
        "outputId": "77299a5c-2fb4-4df2-ee37-f973f315dcc2",
        "colab": {
          "base_uri": "https://localhost:8080/",
          "height": 34
        }
      },
      "source": [
        "dataset[\"slope\"].unique()"
      ],
      "execution_count": 0,
      "outputs": [
        {
          "output_type": "execute_result",
          "data": {
            "text/plain": [
              "array([0, 2, 1])"
            ]
          },
          "metadata": {
            "tags": []
          },
          "execution_count": 30
        }
      ]
    },
    {
      "cell_type": "code",
      "metadata": {
        "id": "yJzcWfox7ePc",
        "colab_type": "code",
        "outputId": "a3abfbc7-9e2c-444d-b71d-909cecd6d8c0",
        "colab": {
          "base_uri": "https://localhost:8080/",
          "height": 300
        }
      },
      "source": [
        "sns.barplot(dataset[\"slope\"],y)"
      ],
      "execution_count": 0,
      "outputs": [
        {
          "output_type": "execute_result",
          "data": {
            "text/plain": [
              "<matplotlib.axes._subplots.AxesSubplot at 0x7fc42559fbe0>"
            ]
          },
          "metadata": {
            "tags": []
          },
          "execution_count": 31
        },
        {
          "output_type": "display_data",
          "data": {
            "image/png": "[encoded data removed]",
            "text/plain": [
              "<Figure size 432x288 with 1 Axes>"
            ]
          },
          "metadata": {
            "tags": []
          }
        }
      ]
    },
    {
      "cell_type": "code",
      "metadata": {
        "id": "8NluEUbn7hCn",
        "colab_type": "code",
        "outputId": "89e0b99d-f817-4323-8bcc-ebc54aea9149",
        "colab": {
          "base_uri": "https://localhost:8080/",
          "height": 34
        }
      },
      "source": [
        "dataset[\"ca\"].unique()"
      ],
      "execution_count": 0,
      "outputs": [
        {
          "output_type": "execute_result",
          "data": {
            "text/plain": [
              "array([0, 2, 1, 3, 4])"
            ]
          },
          "metadata": {
            "tags": []
          },
          "execution_count": 32
        }
      ]
    },
    {
      "cell_type": "code",
      "metadata": {
        "id": "SbS0TtTg7kTE",
        "colab_type": "code",
        "outputId": "99995424-a9d2-4edf-8b60-3e7099753584",
        "colab": {
          "base_uri": "https://localhost:8080/",
          "height": 300
        }
      },
      "source": [
        "sns.countplot(dataset[\"ca\"])"
      ],
      "execution_count": 0,
      "outputs": [
        {
          "output_type": "execute_result",
          "data": {
            "text/plain": [
              "<matplotlib.axes._subplots.AxesSubplot at 0x7fc42551f828>"
            ]
          },
          "metadata": {
            "tags": []
          },
          "execution_count": 33
        },
        {
          "output_type": "display_data",
          "data": {
            "image/png": "[encoded data removed]",
            "text/plain": [
              "<Figure size 432x288 with 1 Axes>"
            ]
          },
          "metadata": {
            "tags": []
          }
        }
      ]
    },
    {
      "cell_type": "code",
      "metadata": {
        "id": "IbJf2kc37naL",
        "colab_type": "code",
        "outputId": "68bb1232-3320-40fd-f60a-560a05d2cc0a",
        "colab": {
          "base_uri": "https://localhost:8080/",
          "height": 300
        }
      },
      "source": [
        "sns.barplot(dataset[\"ca\"],y)"
      ],
      "execution_count": 0,
      "outputs": [
        {
          "output_type": "execute_result",
          "data": {
            "text/plain": [
              "<matplotlib.axes._subplots.AxesSubplot at 0x7fc425516320>"
            ]
          },
          "metadata": {
            "tags": []
          },
          "execution_count": 34
        },
        {
          "output_type": "display_data",
          "data": {
            "image/png": "[encoded data removed]",
            "text/plain": [
              "<Figure size 432x288 with 1 Axes>"
            ]
          },
          "metadata": {
            "tags": []
          }
        }
      ]
    },
    {
      "cell_type": "code",
      "metadata": {
        "id": "uj_VNiia7zWB",
        "colab_type": "code",
        "outputId": "ec0f8fd3-56e6-4926-8f5e-274aa4ea107c",
        "colab": {
          "base_uri": "https://localhost:8080/",
          "height": 34
        }
      },
      "source": [
        "dataset[\"thal\"].unique()\n"
      ],
      "execution_count": 0,
      "outputs": [
        {
          "output_type": "execute_result",
          "data": {
            "text/plain": [
              "array([1, 2, 3, 0])"
            ]
          },
          "metadata": {
            "tags": []
          },
          "execution_count": 35
        }
      ]
    },
    {
      "cell_type": "code",
      "metadata": {
        "id": "6C95w8M8729V",
        "colab_type": "code",
        "outputId": "2f275600-41c6-4e22-ed63-d603c4207799",
        "colab": {
          "base_uri": "https://localhost:8080/",
          "height": 300
        }
      },
      "source": [
        "sns.barplot(dataset[\"thal\"],y)"
      ],
      "execution_count": 0,
      "outputs": [
        {
          "output_type": "execute_result",
          "data": {
            "text/plain": [
              "<matplotlib.axes._subplots.AxesSubplot at 0x7fc42551f588>"
            ]
          },
          "metadata": {
            "tags": []
          },
          "execution_count": 36
        },
        {
          "output_type": "display_data",
          "data": {
            "image/png": "[encoded data removed]",
            "text/plain": [
              "<Figure size 432x288 with 1 Axes>"
            ]
          },
          "metadata": {
            "tags": []
          }
        }
      ]
    },
    {
      "cell_type": "markdown",
      "metadata": {
        "id": "yBxZnqdQ794V",
        "colab_type": "text"
      },
      "source": [
        "# Model Fitting"
      ]
    },
    {
      "cell_type": "code",
      "metadata": {
        "id": "ztmDXByr75Vg",
        "colab_type": "code",
        "colab": {}
      },
      "source": [
        "from sklearn.model_selection import train_test_split\n",
        "\n",
        "predictors = dataset.drop(\"target\",axis=1)\n",
        "target = dataset[\"target\"]\n",
        "\n",
        "X_train,X_test,Y_train,Y_test = train_test_split(predictors,target,test_size=0.20,random_state=0)"
      ],
      "execution_count": 0,
      "outputs": []
    },
    {
      "cell_type": "code",
      "metadata": {
        "id": "tNodgYtq8C2d",
        "colab_type": "code",
        "outputId": "57278440-c0c5-469c-965b-a8ae496c46af",
        "colab": {
          "base_uri": "https://localhost:8080/",
          "height": 34
        }
      },
      "source": [
        "X_train.shape"
      ],
      "execution_count": 0,
      "outputs": [
        {
          "output_type": "execute_result",
          "data": {
            "text/plain": [
              "(242, 13)"
            ]
          },
          "metadata": {
            "tags": []
          },
          "execution_count": 38
        }
      ]
    },
    {
      "cell_type": "code",
      "metadata": {
        "id": "zEaFGI688HuZ",
        "colab_type": "code",
        "outputId": "2368254d-d38e-4e29-cac0-9e2d21bb0b50",
        "colab": {
          "base_uri": "https://localhost:8080/",
          "height": 34
        }
      },
      "source": [
        "X_test.shape"
      ],
      "execution_count": 0,
      "outputs": [
        {
          "output_type": "execute_result",
          "data": {
            "text/plain": [
              "(61, 13)"
            ]
          },
          "metadata": {
            "tags": []
          },
          "execution_count": 39
        }
      ]
    },
    {
      "cell_type": "code",
      "metadata": {
        "id": "fy8_ycBw8LVS",
        "colab_type": "code",
        "outputId": "30db6864-a5e8-472e-f3a5-fe71b0ceb042",
        "colab": {
          "base_uri": "https://localhost:8080/",
          "height": 34
        }
      },
      "source": [
        "Y_train.shape"
      ],
      "execution_count": 0,
      "outputs": [
        {
          "output_type": "execute_result",
          "data": {
            "text/plain": [
              "(242,)"
            ]
          },
          "metadata": {
            "tags": []
          },
          "execution_count": 40
        }
      ]
    },
    {
      "cell_type": "code",
      "metadata": {
        "id": "rLdTqiqj8Ojk",
        "colab_type": "code",
        "outputId": "8da3610d-9316-4a54-d5f4-8d56ac1211bd",
        "colab": {
          "base_uri": "https://localhost:8080/",
          "height": 34
        }
      },
      "source": [
        "Y_test.shape"
      ],
      "execution_count": 0,
      "outputs": [
        {
          "output_type": "execute_result",
          "data": {
            "text/plain": [
              "(61,)"
            ]
          },
          "metadata": {
            "tags": []
          },
          "execution_count": 41
        }
      ]
    },
    {
      "cell_type": "code",
      "metadata": {
        "id": "XPy4Tic-8R0g",
        "colab_type": "code",
        "colab": {}
      },
      "source": [
        "from sklearn.metrics import accuracy_score"
      ],
      "execution_count": 0,
      "outputs": []
    },
    {
      "cell_type": "markdown",
      "metadata": {
        "id": "3FDjB6Oe8YsE",
        "colab_type": "text"
      },
      "source": [
        "## Logisitic Regression"
      ]
    },
    {
      "cell_type": "code",
      "metadata": {
        "id": "fEzVblij8gZk",
        "colab_type": "code",
        "colab": {}
      },
      "source": [
        "from sklearn.linear_model import LogisticRegression\n",
        "\n",
        "lr = LogisticRegression()\n",
        "\n",
        "lr.fit(X_train,Y_train)\n",
        "\n",
        "Y_pred_lr = lr.predict(X_test)"
      ],
      "execution_count": 0,
      "outputs": []
    },
    {
      "cell_type": "code",
      "metadata": {
        "id": "NM1cj7cb8kIu",
        "colab_type": "code",
        "outputId": "9d92d193-033a-4c70-d7c0-f04e3f54f1dc",
        "colab": {
          "base_uri": "https://localhost:8080/",
          "height": 34
        }
      },
      "source": [
        "Y_pred_lr.shape"
      ],
      "execution_count": 0,
      "outputs": [
        {
          "output_type": "execute_result",
          "data": {
            "text/plain": [
              "(61,)"
            ]
          },
          "metadata": {
            "tags": []
          },
          "execution_count": 44
        }
      ]
    },
    {
      "cell_type": "code",
      "metadata": {
        "id": "Zd6ILm9t8nVi",
        "colab_type": "code",
        "outputId": "6048144a-8181-44d5-8ca5-cec2c92cbb9f",
        "colab": {
          "base_uri": "https://localhost:8080/",
          "height": 34
        }
      },
      "source": [
        "score_lr = round(accuracy_score(Y_pred_lr,Y_test)*100,2)\n",
        "\n",
        "print(\"The accuracy score achieved using Logistic Regression is: \"+str(score_lr)+\" %\")"
      ],
      "execution_count": 0,
      "outputs": [
        {
          "output_type": "stream",
          "text": [
            "The accuracy score achieved using Logistic Regression is: 85.25 %\n"
          ],
          "name": "stdout"
        }
      ]
    },
    {
      "cell_type": "markdown",
      "metadata": {
        "id": "AZfcC5To8s2E",
        "colab_type": "text"
      },
      "source": [
        "## Naive Bayers"
      ]
    },
    {
      "cell_type": "code",
      "metadata": {
        "id": "xgeNsDbf8rXg",
        "colab_type": "code",
        "colab": {}
      },
      "source": [
        "from sklearn.naive_bayes import GaussianNB\n",
        "\n",
        "nb = GaussianNB()\n",
        "\n",
        "nb.fit(X_train,Y_train)\n",
        "\n",
        "Y_pred_nb = nb.predict(X_test)"
      ],
      "execution_count": 0,
      "outputs": []
    },
    {
      "cell_type": "code",
      "metadata": {
        "id": "8H4GR90M8yta",
        "colab_type": "code",
        "outputId": "cbfc826c-840f-471b-9037-15c85c2559e2",
        "colab": {
          "base_uri": "https://localhost:8080/",
          "height": 34
        }
      },
      "source": [
        "Y_pred_nb.shape"
      ],
      "execution_count": 0,
      "outputs": [
        {
          "output_type": "execute_result",
          "data": {
            "text/plain": [
              "(61,)"
            ]
          },
          "metadata": {
            "tags": []
          },
          "execution_count": 47
        }
      ]
    },
    {
      "cell_type": "code",
      "metadata": {
        "id": "tQZP4Z1X81NC",
        "colab_type": "code",
        "outputId": "074a969e-cb1c-4cdc-8364-4a15f70ce2a0",
        "colab": {
          "base_uri": "https://localhost:8080/",
          "height": 34
        }
      },
      "source": [
        "score_nb = round(accuracy_score(Y_pred_nb,Y_test)*100,2)\n",
        "\n",
        "print(\"The accuracy score achieved using Naive Bayes is: \"+str(score_nb)+\" %\")"
      ],
      "execution_count": 0,
      "outputs": [
        {
          "output_type": "stream",
          "text": [
            "The accuracy score achieved using Naive Bayes is: 85.25 %\n"
          ],
          "name": "stdout"
        }
      ]
    },
    {
      "cell_type": "markdown",
      "metadata": {
        "id": "ETl7wyMs851U",
        "colab_type": "text"
      },
      "source": [
        "## Support Vector Machines\n"
      ]
    },
    {
      "cell_type": "code",
      "metadata": {
        "id": "ZV5KA1j784kg",
        "colab_type": "code",
        "colab": {}
      },
      "source": [
        "\n",
        "from sklearn import svm\n",
        "\n",
        "sv = svm.SVC(kernel='linear')\n",
        "\n",
        "sv.fit(X_train, Y_train)\n",
        "\n",
        "Y_pred_svm = sv.predict(X_test)"
      ],
      "execution_count": 0,
      "outputs": []
    },
    {
      "cell_type": "code",
      "metadata": {
        "id": "slKlRI0s9CKx",
        "colab_type": "code",
        "outputId": "df4561b0-1b00-468e-96a9-07ed675a8706",
        "colab": {
          "base_uri": "https://localhost:8080/",
          "height": 34
        }
      },
      "source": [
        "Y_pred_svm.shape"
      ],
      "execution_count": 0,
      "outputs": [
        {
          "output_type": "execute_result",
          "data": {
            "text/plain": [
              "(61,)"
            ]
          },
          "metadata": {
            "tags": []
          },
          "execution_count": 50
        }
      ]
    },
    {
      "cell_type": "code",
      "metadata": {
        "id": "aqPuCSg-9FZT",
        "colab_type": "code",
        "outputId": "ffb06c1b-bdc9-4fca-fff8-47c24b9da2db",
        "colab": {
          "base_uri": "https://localhost:8080/",
          "height": 34
        }
      },
      "source": [
        "score_svm = round(accuracy_score(Y_pred_svm,Y_test)*100,2)\n",
        "\n",
        "print(\"The accuracy score achieved using Linear SVM is: \"+str(score_svm)+\" %\")"
      ],
      "execution_count": 0,
      "outputs": [
        {
          "output_type": "stream",
          "text": [
            "The accuracy score achieved using Linear SVM is: 81.97 %\n"
          ],
          "name": "stdout"
        }
      ]
    },
    {
      "cell_type": "markdown",
      "metadata": {
        "id": "3yFkFfRo9LHt",
        "colab_type": "text"
      },
      "source": [
        "# K Nearest Neighbour"
      ]
    },
    {
      "cell_type": "code",
      "metadata": {
        "id": "kVrWwH3K9J_K",
        "colab_type": "code",
        "colab": {}
      },
      "source": [
        "from sklearn.neighbors import KNeighborsClassifier\n",
        "\n",
        "knn = KNeighborsClassifier(n_neighbors=7)\n",
        "knn.fit(X_train,Y_train)\n",
        "Y_pred_knn=knn.predict(X_test)"
      ],
      "execution_count": 0,
      "outputs": []
    },
    {
      "cell_type": "code",
      "metadata": {
        "id": "w4x5ZEkw9R6D",
        "colab_type": "code",
        "outputId": "e151f785-37d1-4179-813b-c7d67e2632f2",
        "colab": {
          "base_uri": "https://localhost:8080/",
          "height": 34
        }
      },
      "source": [
        "Y_pred_knn.shape"
      ],
      "execution_count": 0,
      "outputs": [
        {
          "output_type": "execute_result",
          "data": {
            "text/plain": [
              "(61,)"
            ]
          },
          "metadata": {
            "tags": []
          },
          "execution_count": 53
        }
      ]
    },
    {
      "cell_type": "code",
      "metadata": {
        "id": "bfFKc9el9Ucf",
        "colab_type": "code",
        "outputId": "9b05c015-1b57-487d-8398-1953d862a533",
        "colab": {
          "base_uri": "https://localhost:8080/",
          "height": 34
        }
      },
      "source": [
        "score_knn = round(accuracy_score(Y_pred_knn,Y_test)*100,2)\n",
        "\n",
        "print(\"The accuracy score achieved using KNN is: \"+str(score_knn)+\" %\")\n"
      ],
      "execution_count": 0,
      "outputs": [
        {
          "output_type": "stream",
          "text": [
            "The accuracy score achieved using KNN is: 67.21 %\n"
          ],
          "name": "stdout"
        }
      ]
    },
    {
      "cell_type": "code",
      "metadata": {
        "id": "jOm9VK9L9YHh",
        "colab_type": "code",
        "colab": {}
      },
      "source": [
        "from sklearn.tree import DecisionTreeClassifier\n",
        "\n",
        "max_accuracy = 0\n",
        "\n",
        "\n",
        "for x in range(200):\n",
        "    dt = DecisionTreeClassifier(random_state=x)\n",
        "    dt.fit(X_train,Y_train)\n",
        "    Y_pred_dt = dt.predict(X_test)\n",
        "    current_accuracy = round(accuracy_score(Y_pred_dt,Y_test)*100,2)\n",
        "    if(current_accuracy>max_accuracy):\n",
        "        max_accuracy = current_accuracy\n",
        "        best_x = x\n",
        "\n",
        "dt = DecisionTreeClassifier(random_state=best_x)\n",
        "dt.fit(X_train,Y_train)\n",
        "Y_pred_dt = dt.predict(X_test)"
      ],
      "execution_count": 0,
      "outputs": []
    },
    {
      "cell_type": "code",
      "metadata": {
        "id": "ykpIF3cG9dIs",
        "colab_type": "code",
        "outputId": "04f49630-cdc9-4636-e795-c84b43532c28",
        "colab": {
          "base_uri": "https://localhost:8080/",
          "height": 34
        }
      },
      "source": [
        "\n",
        "print(Y_pred_dt.shape)"
      ],
      "execution_count": 0,
      "outputs": [
        {
          "output_type": "stream",
          "text": [
            "(61,)\n"
          ],
          "name": "stdout"
        }
      ]
    },
    {
      "cell_type": "code",
      "metadata": {
        "id": "qqOk3z1l9gKb",
        "colab_type": "code",
        "outputId": "2b947934-3ad4-4a46-e8df-39204139c349",
        "colab": {
          "base_uri": "https://localhost:8080/",
          "height": 34
        }
      },
      "source": [
        "score_dt = round(accuracy_score(Y_pred_dt,Y_test)*100,2)\n",
        "\n",
        "print(\"The accuracy score achieved using Decision Tree is: \"+str(score_dt)+\" %\")"
      ],
      "execution_count": 0,
      "outputs": [
        {
          "output_type": "stream",
          "text": [
            "The accuracy score achieved using Decision Tree is: 81.97 %\n"
          ],
          "name": "stdout"
        }
      ]
    },
    {
      "cell_type": "markdown",
      "metadata": {
        "id": "XG7W8wKl9lCI",
        "colab_type": "text"
      },
      "source": [
        "# Random Forest"
      ]
    },
    {
      "cell_type": "code",
      "metadata": {
        "id": "WFNHS3ro9iY7",
        "colab_type": "code",
        "colab": {}
      },
      "source": [
        "from sklearn.ensemble import RandomForestClassifier\n",
        "\n",
        "max_accuracy = 0\n",
        "\n",
        "\n",
        "for x in range(2000):\n",
        "    rf = RandomForestClassifier(random_state=x)\n",
        "    rf.fit(X_train,Y_train)\n",
        "    Y_pred_rf = rf.predict(X_test)\n",
        "    current_accuracy = round(accuracy_score(Y_pred_rf,Y_test)*100,2)\n",
        "    if(current_accuracy>max_accuracy):\n",
        "        max_accuracy = current_accuracy\n",
        "        best_x = x\n",
        "\n",
        "\n",
        "rf = RandomForestClassifier(random_state=best_x)\n",
        "rf.fit(X_train,Y_train)\n",
        "Y_pred_rf = rf.predict(X_test)"
      ],
      "execution_count": 0,
      "outputs": []
    },
    {
      "cell_type": "code",
      "metadata": {
        "id": "WGR8aVLe9qsB",
        "colab_type": "code",
        "outputId": "689c1bb3-4309-443b-bfa5-90854a8d190c",
        "colab": {
          "base_uri": "https://localhost:8080/",
          "height": 34
        }
      },
      "source": [
        "Y_pred_rf.shape\n"
      ],
      "execution_count": 0,
      "outputs": [
        {
          "output_type": "execute_result",
          "data": {
            "text/plain": [
              "(61,)"
            ]
          },
          "metadata": {
            "tags": []
          },
          "execution_count": 60
        }
      ]
    },
    {
      "cell_type": "code",
      "metadata": {
        "id": "WySlK40S92g9",
        "colab_type": "code",
        "outputId": "81b08e78-f640-4d33-9343-05ea2eb6e873",
        "colab": {
          "base_uri": "https://localhost:8080/",
          "height": 34
        }
      },
      "source": [
        "score_rf = round(accuracy_score(Y_pred_rf,Y_test)*100,2)\n",
        "\n",
        "print(\"The accuracy score achieved using Decision Tree is: \"+str(score_rf)+\" %\")"
      ],
      "execution_count": 0,
      "outputs": [
        {
          "output_type": "stream",
          "text": [
            "The accuracy score achieved using Decision Tree is: 95.08 %\n"
          ],
          "name": "stdout"
        }
      ]
    },
    {
      "cell_type": "markdown",
      "metadata": {
        "id": "e5QM7Cui96WP",
        "colab_type": "text"
      },
      "source": [
        "# Neural Network"
      ]
    },
    {
      "cell_type": "code",
      "metadata": {
        "id": "rIrhsEqS940_",
        "colab_type": "code",
        "outputId": "017287a4-ba92-4fbc-d4ab-87e8af66fd2d",
        "colab": {
          "base_uri": "https://localhost:8080/",
          "height": 34
        }
      },
      "source": [
        "from keras.models import Sequential\n",
        "from keras.layers import Dense"
      ],
      "execution_count": 0,
      "outputs": [
        {
          "output_type": "stream",
          "text": [
            "Using TensorFlow backend.\n"
          ],
          "name": "stderr"
        }
      ]
    },
    {
      "cell_type": "code",
      "metadata": {
        "id": "v_IoKhVZ9_kZ",
        "colab_type": "code",
        "outputId": "f7b90c79-c958-4be3-8aa1-16766b753e8a",
        "colab": {
          "base_uri": "https://localhost:8080/",
          "height": 258
        }
      },
      "source": [
        "model = Sequential()\n",
        "model.add(Dense(11,activation='relu',input_dim=13))\n",
        "model.add(Dense(1,activation='sigmoid'))\n",
        "\n",
        "model.compile(loss='binary_crossentropy',optimizer='adam',metrics=['accuracy'])"
      ],
      "execution_count": 0,
      "outputs": [
        {
          "output_type": "stream",
          "text": [
            "WARNING:tensorflow:From /usr/local/lib/python3.6/dist-packages/keras/backend/tensorflow_backend.py:66: The name tf.get_default_graph is deprecated. Please use tf.compat.v1.get_default_graph instead.\n",
            "\n",
            "WARNING:tensorflow:From /usr/local/lib/python3.6/dist-packages/keras/backend/tensorflow_backend.py:541: The name tf.placeholder is deprecated. Please use tf.compat.v1.placeholder instead.\n",
            "\n",
            "WARNING:tensorflow:From /usr/local/lib/python3.6/dist-packages/keras/backend/tensorflow_backend.py:4432: The name tf.random_uniform is deprecated. Please use tf.random.uniform instead.\n",
            "\n",
            "WARNING:tensorflow:From /usr/local/lib/python3.6/dist-packages/keras/optimizers.py:793: The name tf.train.Optimizer is deprecated. Please use tf.compat.v1.train.Optimizer instead.\n",
            "\n",
            "WARNING:tensorflow:From /usr/local/lib/python3.6/dist-packages/keras/backend/tensorflow_backend.py:3657: The name tf.log is deprecated. Please use tf.math.log instead.\n",
            "\n",
            "WARNING:tensorflow:From /usr/local/lib/python3.6/dist-packages/tensorflow_core/python/ops/nn_impl.py:183: where (from tensorflow.python.ops.array_ops) is deprecated and will be removed in a future version.\n",
            "Instructions for updating:\n",
            "Use tf.where in 2.0, which has the same broadcast rule as np.where\n"
          ],
          "name": "stdout"
        }
      ]
    },
    {
      "cell_type": "code",
      "metadata": {
        "id": "iscHOS-N-wS0",
        "colab_type": "code",
        "outputId": "7b3fd275-ac80-496f-abfc-54a9ede85914",
        "colab": {
          "base_uri": "https://localhost:8080/",
          "height": 1000
        }
      },
      "source": [
        "\n",
        "model.fit(X_train,Y_train,epochs=300)"
      ],
      "execution_count": 0,
      "outputs": [
        {
          "output_type": "stream",
          "text": [
            "WARNING:tensorflow:From /usr/local/lib/python3.6/dist-packages/keras/backend/tensorflow_backend.py:1033: The name tf.assign_add is deprecated. Please use tf.compat.v1.assign_add instead.\n",
            "\n",
            "WARNING:tensorflow:From /usr/local/lib/python3.6/dist-packages/keras/backend/tensorflow_backend.py:1020: The name tf.assign is deprecated. Please use tf.compat.v1.assign instead.\n",
            "\n",
            "WARNING:tensorflow:From /usr/local/lib/python3.6/dist-packages/keras/backend/tensorflow_backend.py:3005: The name tf.Session is deprecated. Please use tf.compat.v1.Session instead.\n",
            "\n",
            "Epoch 1/300\n",
            "WARNING:tensorflow:From /usr/local/lib/python3.6/dist-packages/keras/backend/tensorflow_backend.py:190: The name tf.get_default_session is deprecated. Please use tf.compat.v1.get_default_session instead.\n",
            "\n",
            "WARNING:tensorflow:From /usr/local/lib/python3.6/dist-packages/keras/backend/tensorflow_backend.py:197: The name tf.ConfigProto is deprecated. Please use tf.compat.v1.ConfigProto instead.\n",
            "\n",
            "WARNING:tensorflow:From /usr/local/lib/python3.6/dist-packages/keras/backend/tensorflow_backend.py:207: The name tf.global_variables is deprecated. Please use tf.compat.v1.global_variables instead.\n",
            "\n",
            "WARNING:tensorflow:From /usr/local/lib/python3.6/dist-packages/keras/backend/tensorflow_backend.py:216: The name tf.is_variable_initialized is deprecated. Please use tf.compat.v1.is_variable_initialized instead.\n",
            "\n",
            "WARNING:tensorflow:From /usr/local/lib/python3.6/dist-packages/keras/backend/tensorflow_backend.py:223: The name tf.variables_initializer is deprecated. Please use tf.compat.v1.variables_initializer instead.\n",
            "\n",
            "242/242 [==============================] - 1s 4ms/step - loss: 4.5069 - acc: 0.4050\n",
            "Epoch 2/300\n",
            "242/242 [==============================] - 0s 72us/step - loss: 3.5006 - acc: 0.3884\n",
            "Epoch 3/300\n",
            "242/242 [==============================] - 0s 61us/step - loss: 2.3694 - acc: 0.3967\n",
            "Epoch 4/300\n",
            "242/242 [==============================] - 0s 65us/step - loss: 1.7433 - acc: 0.4752\n",
            "Epoch 5/300\n",
            "242/242 [==============================] - 0s 63us/step - loss: 1.3028 - acc: 0.5661\n",
            "Epoch 6/300\n",
            "242/242 [==============================] - 0s 62us/step - loss: 1.1293 - acc: 0.5579\n",
            "Epoch 7/300\n",
            "242/242 [==============================] - 0s 59us/step - loss: 0.9841 - acc: 0.6446\n",
            "Epoch 8/300\n",
            "242/242 [==============================] - 0s 58us/step - loss: 0.9119 - acc: 0.6198\n",
            "Epoch 9/300\n",
            "242/242 [==============================] - 0s 58us/step - loss: 0.8495 - acc: 0.6446\n",
            "Epoch 10/300\n",
            "242/242 [==============================] - 0s 76us/step - loss: 0.8222 - acc: 0.6777\n",
            "Epoch 11/300\n",
            "242/242 [==============================] - 0s 63us/step - loss: 0.7995 - acc: 0.6488\n",
            "Epoch 12/300\n",
            "242/242 [==============================] - 0s 77us/step - loss: 0.7718 - acc: 0.6694\n",
            "Epoch 13/300\n",
            "242/242 [==============================] - 0s 94us/step - loss: 0.7560 - acc: 0.6736\n",
            "Epoch 14/300\n",
            "242/242 [==============================] - 0s 65us/step - loss: 0.7533 - acc: 0.6653\n",
            "Epoch 15/300\n",
            "242/242 [==============================] - 0s 77us/step - loss: 0.7248 - acc: 0.6777\n",
            "Epoch 16/300\n",
            "242/242 [==============================] - 0s 67us/step - loss: 0.7081 - acc: 0.6777\n",
            "Epoch 17/300\n",
            "242/242 [==============================] - 0s 70us/step - loss: 0.6795 - acc: 0.6942\n",
            "Epoch 18/300\n",
            "242/242 [==============================] - 0s 91us/step - loss: 0.6969 - acc: 0.6860\n",
            "Epoch 19/300\n",
            "242/242 [==============================] - 0s 72us/step - loss: 0.6997 - acc: 0.6736\n",
            "Epoch 20/300\n",
            "242/242 [==============================] - 0s 70us/step - loss: 0.6408 - acc: 0.6860\n",
            "Epoch 21/300\n",
            "242/242 [==============================] - 0s 66us/step - loss: 0.6093 - acc: 0.7066\n",
            "Epoch 22/300\n",
            "242/242 [==============================] - 0s 68us/step - loss: 0.6096 - acc: 0.7066\n",
            "Epoch 23/300\n",
            "242/242 [==============================] - 0s 70us/step - loss: 0.5977 - acc: 0.7149\n",
            "Epoch 24/300\n",
            "242/242 [==============================] - 0s 63us/step - loss: 0.5802 - acc: 0.7149\n",
            "Epoch 25/300\n",
            "242/242 [==============================] - 0s 86us/step - loss: 0.5790 - acc: 0.7107\n",
            "Epoch 26/300\n",
            "242/242 [==============================] - 0s 62us/step - loss: 0.5672 - acc: 0.7190\n",
            "Epoch 27/300\n",
            "242/242 [==============================] - 0s 81us/step - loss: 0.5689 - acc: 0.7521\n",
            "Epoch 28/300\n",
            "242/242 [==============================] - 0s 79us/step - loss: 0.5482 - acc: 0.7314\n",
            "Epoch 29/300\n",
            "242/242 [==============================] - 0s 75us/step - loss: 0.5621 - acc: 0.7231\n",
            "Epoch 30/300\n",
            "242/242 [==============================] - 0s 80us/step - loss: 0.5426 - acc: 0.7479\n",
            "Epoch 31/300\n",
            "242/242 [==============================] - 0s 69us/step - loss: 0.5406 - acc: 0.7397\n",
            "Epoch 32/300\n",
            "242/242 [==============================] - 0s 63us/step - loss: 0.5211 - acc: 0.7355\n",
            "Epoch 33/300\n",
            "242/242 [==============================] - 0s 57us/step - loss: 0.5471 - acc: 0.7397\n",
            "Epoch 34/300\n",
            "242/242 [==============================] - 0s 55us/step - loss: 0.5056 - acc: 0.7438\n",
            "Epoch 35/300\n",
            "242/242 [==============================] - 0s 65us/step - loss: 0.5160 - acc: 0.7273\n",
            "Epoch 36/300\n",
            "242/242 [==============================] - 0s 72us/step - loss: 0.4902 - acc: 0.7603\n",
            "Epoch 37/300\n",
            "242/242 [==============================] - 0s 91us/step - loss: 0.4956 - acc: 0.7397\n",
            "Epoch 38/300\n",
            "242/242 [==============================] - 0s 86us/step - loss: 0.4841 - acc: 0.7562\n",
            "Epoch 39/300\n",
            "242/242 [==============================] - 0s 63us/step - loss: 0.4738 - acc: 0.7686\n",
            "Epoch 40/300\n",
            "242/242 [==============================] - 0s 79us/step - loss: 0.4693 - acc: 0.7603\n",
            "Epoch 41/300\n",
            "242/242 [==============================] - 0s 68us/step - loss: 0.4827 - acc: 0.7810\n",
            "Epoch 42/300\n",
            "242/242 [==============================] - 0s 75us/step - loss: 0.4585 - acc: 0.7727\n",
            "Epoch 43/300\n",
            "242/242 [==============================] - 0s 89us/step - loss: 0.4537 - acc: 0.7686\n",
            "Epoch 44/300\n",
            "242/242 [==============================] - 0s 63us/step - loss: 0.4660 - acc: 0.7727\n",
            "Epoch 45/300\n",
            "242/242 [==============================] - 0s 76us/step - loss: 0.5225 - acc: 0.7149\n",
            "Epoch 46/300\n",
            "242/242 [==============================] - 0s 71us/step - loss: 0.4480 - acc: 0.8017\n",
            "Epoch 47/300\n",
            "242/242 [==============================] - 0s 72us/step - loss: 0.4720 - acc: 0.7355\n",
            "Epoch 48/300\n",
            "242/242 [==============================] - 0s 76us/step - loss: 0.4715 - acc: 0.7975\n",
            "Epoch 49/300\n",
            "242/242 [==============================] - 0s 60us/step - loss: 0.4457 - acc: 0.7810\n",
            "Epoch 50/300\n",
            "242/242 [==============================] - 0s 73us/step - loss: 0.4746 - acc: 0.7397\n",
            "Epoch 51/300\n",
            "242/242 [==============================] - 0s 85us/step - loss: 0.4875 - acc: 0.7810\n",
            "Epoch 52/300\n",
            "242/242 [==============================] - 0s 68us/step - loss: 0.4735 - acc: 0.7851\n",
            "Epoch 53/300\n",
            "242/242 [==============================] - 0s 87us/step - loss: 0.4815 - acc: 0.7769\n",
            "Epoch 54/300\n",
            "242/242 [==============================] - 0s 71us/step - loss: 0.4270 - acc: 0.7769\n",
            "Epoch 55/300\n",
            "242/242 [==============================] - 0s 77us/step - loss: 0.4215 - acc: 0.8140\n",
            "Epoch 56/300\n",
            "242/242 [==============================] - 0s 62us/step - loss: 0.4162 - acc: 0.8223\n",
            "Epoch 57/300\n",
            "242/242 [==============================] - 0s 62us/step - loss: 0.4155 - acc: 0.8182\n",
            "Epoch 58/300\n",
            "242/242 [==============================] - 0s 62us/step - loss: 0.4180 - acc: 0.8182\n",
            "Epoch 59/300\n",
            "242/242 [==============================] - 0s 70us/step - loss: 0.4198 - acc: 0.8099\n",
            "Epoch 60/300\n",
            "242/242 [==============================] - 0s 72us/step - loss: 0.4352 - acc: 0.7934\n",
            "Epoch 61/300\n",
            "242/242 [==============================] - 0s 70us/step - loss: 0.4421 - acc: 0.7851\n",
            "Epoch 62/300\n",
            "242/242 [==============================] - 0s 80us/step - loss: 0.4202 - acc: 0.8347\n",
            "Epoch 63/300\n",
            "242/242 [==============================] - 0s 79us/step - loss: 0.5182 - acc: 0.7479\n",
            "Epoch 64/300\n",
            "242/242 [==============================] - 0s 74us/step - loss: 0.4090 - acc: 0.8223\n",
            "Epoch 65/300\n",
            "242/242 [==============================] - 0s 63us/step - loss: 0.4148 - acc: 0.8099\n",
            "Epoch 66/300\n",
            "242/242 [==============================] - 0s 71us/step - loss: 0.4270 - acc: 0.7769\n",
            "Epoch 67/300\n",
            "242/242 [==============================] - 0s 121us/step - loss: 0.4097 - acc: 0.8017\n",
            "Epoch 68/300\n",
            "242/242 [==============================] - 0s 62us/step - loss: 0.4151 - acc: 0.8264\n",
            "Epoch 69/300\n",
            "242/242 [==============================] - 0s 60us/step - loss: 0.4044 - acc: 0.8223\n",
            "Epoch 70/300\n",
            "242/242 [==============================] - 0s 68us/step - loss: 0.4311 - acc: 0.8140\n",
            "Epoch 71/300\n",
            "242/242 [==============================] - 0s 71us/step - loss: 0.4329 - acc: 0.8099\n",
            "Epoch 72/300\n",
            "242/242 [==============================] - 0s 64us/step - loss: 0.4282 - acc: 0.8182\n",
            "Epoch 73/300\n",
            "242/242 [==============================] - 0s 80us/step - loss: 0.4351 - acc: 0.7603\n",
            "Epoch 74/300\n",
            "242/242 [==============================] - 0s 70us/step - loss: 0.4116 - acc: 0.8058\n",
            "Epoch 75/300\n",
            "242/242 [==============================] - 0s 80us/step - loss: 0.4199 - acc: 0.8099\n",
            "Epoch 76/300\n",
            "242/242 [==============================] - 0s 82us/step - loss: 0.3878 - acc: 0.8306\n",
            "Epoch 77/300\n",
            "242/242 [==============================] - 0s 93us/step - loss: 0.3991 - acc: 0.8471\n",
            "Epoch 78/300\n",
            "242/242 [==============================] - 0s 79us/step - loss: 0.3867 - acc: 0.8430\n",
            "Epoch 79/300\n",
            "242/242 [==============================] - 0s 84us/step - loss: 0.3906 - acc: 0.8388\n",
            "Epoch 80/300\n",
            "242/242 [==============================] - 0s 93us/step - loss: 0.3867 - acc: 0.8430\n",
            "Epoch 81/300\n",
            "242/242 [==============================] - 0s 82us/step - loss: 0.4165 - acc: 0.8388\n",
            "Epoch 82/300\n",
            "242/242 [==============================] - 0s 76us/step - loss: 0.3886 - acc: 0.8223\n",
            "Epoch 83/300\n",
            "242/242 [==============================] - 0s 73us/step - loss: 0.4087 - acc: 0.8264\n",
            "Epoch 84/300\n",
            "242/242 [==============================] - 0s 65us/step - loss: 0.4373 - acc: 0.7893\n",
            "Epoch 85/300\n",
            "242/242 [==============================] - 0s 87us/step - loss: 0.4251 - acc: 0.8017\n",
            "Epoch 86/300\n",
            "242/242 [==============================] - 0s 78us/step - loss: 0.4386 - acc: 0.8058\n",
            "Epoch 87/300\n",
            "242/242 [==============================] - 0s 88us/step - loss: 0.3891 - acc: 0.8140\n",
            "Epoch 88/300\n",
            "242/242 [==============================] - 0s 106us/step - loss: 0.3827 - acc: 0.8554\n",
            "Epoch 89/300\n",
            "242/242 [==============================] - 0s 99us/step - loss: 0.3858 - acc: 0.8430\n",
            "Epoch 90/300\n",
            "242/242 [==============================] - 0s 68us/step - loss: 0.3835 - acc: 0.8347\n",
            "Epoch 91/300\n",
            "242/242 [==============================] - 0s 62us/step - loss: 0.4021 - acc: 0.8223\n",
            "Epoch 92/300\n",
            "242/242 [==============================] - 0s 67us/step - loss: 0.3735 - acc: 0.8512\n",
            "Epoch 93/300\n",
            "242/242 [==============================] - 0s 82us/step - loss: 0.3755 - acc: 0.8471\n",
            "Epoch 94/300\n",
            "242/242 [==============================] - 0s 79us/step - loss: 0.3841 - acc: 0.8512\n",
            "Epoch 95/300\n",
            "242/242 [==============================] - 0s 108us/step - loss: 0.3861 - acc: 0.8471\n",
            "Epoch 96/300\n",
            "242/242 [==============================] - 0s 70us/step - loss: 0.3801 - acc: 0.8223\n",
            "Epoch 97/300\n",
            "242/242 [==============================] - 0s 65us/step - loss: 0.3993 - acc: 0.8388\n",
            "Epoch 98/300\n",
            "242/242 [==============================] - 0s 85us/step - loss: 0.3852 - acc: 0.8430\n",
            "Epoch 99/300\n",
            "242/242 [==============================] - 0s 73us/step - loss: 0.3779 - acc: 0.8182\n",
            "Epoch 100/300\n",
            "242/242 [==============================] - 0s 86us/step - loss: 0.3734 - acc: 0.8306\n",
            "Epoch 101/300\n",
            "242/242 [==============================] - 0s 106us/step - loss: 0.3794 - acc: 0.8347\n",
            "Epoch 102/300\n",
            "242/242 [==============================] - 0s 64us/step - loss: 0.4006 - acc: 0.8347\n",
            "Epoch 103/300\n",
            "242/242 [==============================] - 0s 103us/step - loss: 0.3980 - acc: 0.8388\n",
            "Epoch 104/300\n",
            "242/242 [==============================] - 0s 89us/step - loss: 0.3908 - acc: 0.8182\n",
            "Epoch 105/300\n",
            "242/242 [==============================] - 0s 72us/step - loss: 0.3751 - acc: 0.8388\n",
            "Epoch 106/300\n",
            "242/242 [==============================] - 0s 53us/step - loss: 0.3705 - acc: 0.8554\n",
            "Epoch 107/300\n",
            "242/242 [==============================] - 0s 74us/step - loss: 0.3898 - acc: 0.8306\n",
            "Epoch 108/300\n",
            "242/242 [==============================] - 0s 86us/step - loss: 0.3732 - acc: 0.8430\n",
            "Epoch 109/300\n",
            "242/242 [==============================] - 0s 141us/step - loss: 0.3810 - acc: 0.8306\n",
            "Epoch 110/300\n",
            "242/242 [==============================] - 0s 78us/step - loss: 0.3728 - acc: 0.8430\n",
            "Epoch 111/300\n",
            "242/242 [==============================] - 0s 66us/step - loss: 0.3715 - acc: 0.8512\n",
            "Epoch 112/300\n",
            "242/242 [==============================] - 0s 91us/step - loss: 0.3779 - acc: 0.8347\n",
            "Epoch 113/300\n",
            "242/242 [==============================] - 0s 65us/step - loss: 0.3788 - acc: 0.8512\n",
            "Epoch 114/300\n",
            "242/242 [==============================] - 0s 63us/step - loss: 0.3705 - acc: 0.8512\n",
            "Epoch 115/300\n",
            "242/242 [==============================] - 0s 62us/step - loss: 0.3968 - acc: 0.8099\n",
            "Epoch 116/300\n",
            "242/242 [==============================] - 0s 60us/step - loss: 0.3650 - acc: 0.8388\n",
            "Epoch 117/300\n",
            "242/242 [==============================] - 0s 63us/step - loss: 0.3768 - acc: 0.8306\n",
            "Epoch 118/300\n",
            "242/242 [==============================] - 0s 81us/step - loss: 0.3668 - acc: 0.8430\n",
            "Epoch 119/300\n",
            "242/242 [==============================] - 0s 78us/step - loss: 0.3939 - acc: 0.8306\n",
            "Epoch 120/300\n",
            "242/242 [==============================] - 0s 72us/step - loss: 0.4180 - acc: 0.8099\n",
            "Epoch 121/300\n",
            "242/242 [==============================] - 0s 69us/step - loss: 0.4456 - acc: 0.7893\n",
            "Epoch 122/300\n",
            "242/242 [==============================] - 0s 62us/step - loss: 0.4267 - acc: 0.8017\n",
            "Epoch 123/300\n",
            "242/242 [==============================] - 0s 112us/step - loss: 0.3732 - acc: 0.8471\n",
            "Epoch 124/300\n",
            "242/242 [==============================] - 0s 101us/step - loss: 0.3640 - acc: 0.8471\n",
            "Epoch 125/300\n",
            "242/242 [==============================] - 0s 92us/step - loss: 0.3916 - acc: 0.8388\n",
            "Epoch 126/300\n",
            "242/242 [==============================] - 0s 62us/step - loss: 0.3776 - acc: 0.8430\n",
            "Epoch 127/300\n",
            "242/242 [==============================] - 0s 62us/step - loss: 0.3771 - acc: 0.8347\n",
            "Epoch 128/300\n",
            "242/242 [==============================] - 0s 65us/step - loss: 0.3710 - acc: 0.8347\n",
            "Epoch 129/300\n",
            "242/242 [==============================] - 0s 62us/step - loss: 0.5003 - acc: 0.7851\n",
            "Epoch 130/300\n",
            "242/242 [==============================] - 0s 59us/step - loss: 0.4186 - acc: 0.7934\n",
            "Epoch 131/300\n",
            "242/242 [==============================] - 0s 65us/step - loss: 0.3984 - acc: 0.8058\n",
            "Epoch 132/300\n",
            "242/242 [==============================] - 0s 82us/step - loss: 0.3609 - acc: 0.8264\n",
            "Epoch 133/300\n",
            "242/242 [==============================] - 0s 65us/step - loss: 0.3634 - acc: 0.8512\n",
            "Epoch 134/300\n",
            "242/242 [==============================] - 0s 84us/step - loss: 0.3637 - acc: 0.8595\n",
            "Epoch 135/300\n",
            "242/242 [==============================] - 0s 79us/step - loss: 0.3734 - acc: 0.8430\n",
            "Epoch 136/300\n",
            "242/242 [==============================] - 0s 66us/step - loss: 0.3617 - acc: 0.8430\n",
            "Epoch 137/300\n",
            "242/242 [==============================] - 0s 65us/step - loss: 0.4215 - acc: 0.8140\n",
            "Epoch 138/300\n",
            "242/242 [==============================] - 0s 78us/step - loss: 0.4005 - acc: 0.8182\n",
            "Epoch 139/300\n",
            "242/242 [==============================] - 0s 65us/step - loss: 0.4168 - acc: 0.7934\n",
            "Epoch 140/300\n",
            "242/242 [==============================] - 0s 66us/step - loss: 0.3782 - acc: 0.8223\n",
            "Epoch 141/300\n",
            "242/242 [==============================] - 0s 65us/step - loss: 0.3667 - acc: 0.8306\n",
            "Epoch 142/300\n",
            "242/242 [==============================] - 0s 62us/step - loss: 0.3732 - acc: 0.8430\n",
            "Epoch 143/300\n",
            "242/242 [==============================] - 0s 81us/step - loss: 0.4296 - acc: 0.8140\n",
            "Epoch 144/300\n",
            "242/242 [==============================] - 0s 90us/step - loss: 0.4153 - acc: 0.8099\n",
            "Epoch 145/300\n",
            "242/242 [==============================] - 0s 74us/step - loss: 0.4611 - acc: 0.7769\n",
            "Epoch 146/300\n",
            "242/242 [==============================] - 0s 69us/step - loss: 0.3962 - acc: 0.7975\n",
            "Epoch 147/300\n",
            "242/242 [==============================] - 0s 83us/step - loss: 0.3901 - acc: 0.8554\n",
            "Epoch 148/300\n",
            "242/242 [==============================] - 0s 80us/step - loss: 0.4155 - acc: 0.8058\n",
            "Epoch 149/300\n",
            "242/242 [==============================] - 0s 66us/step - loss: 0.3713 - acc: 0.8430\n",
            "Epoch 150/300\n",
            "242/242 [==============================] - 0s 63us/step - loss: 0.3928 - acc: 0.8347\n",
            "Epoch 151/300\n",
            "242/242 [==============================] - 0s 70us/step - loss: 0.3914 - acc: 0.8347\n",
            "Epoch 152/300\n",
            "242/242 [==============================] - 0s 65us/step - loss: 0.3617 - acc: 0.8347\n",
            "Epoch 153/300\n",
            "242/242 [==============================] - 0s 99us/step - loss: 0.3638 - acc: 0.8471\n",
            "Epoch 154/300\n",
            "242/242 [==============================] - 0s 74us/step - loss: 0.3685 - acc: 0.8182\n",
            "Epoch 155/300\n",
            "242/242 [==============================] - 0s 69us/step - loss: 0.3789 - acc: 0.8347\n",
            "Epoch 156/300\n",
            "242/242 [==============================] - 0s 147us/step - loss: 0.3992 - acc: 0.8223\n",
            "Epoch 157/300\n",
            "242/242 [==============================] - 0s 103us/step - loss: 0.4319 - acc: 0.8182\n",
            "Epoch 158/300\n",
            "242/242 [==============================] - 0s 77us/step - loss: 0.3817 - acc: 0.8554\n",
            "Epoch 159/300\n",
            "242/242 [==============================] - 0s 81us/step - loss: 0.3807 - acc: 0.8306\n",
            "Epoch 160/300\n",
            "242/242 [==============================] - 0s 81us/step - loss: 0.4100 - acc: 0.7934\n",
            "Epoch 161/300\n",
            "242/242 [==============================] - 0s 100us/step - loss: 0.5018 - acc: 0.7893\n",
            "Epoch 162/300\n",
            "242/242 [==============================] - 0s 96us/step - loss: 0.4352 - acc: 0.7851\n",
            "Epoch 163/300\n",
            "242/242 [==============================] - 0s 73us/step - loss: 0.3671 - acc: 0.8099\n",
            "Epoch 164/300\n",
            "242/242 [==============================] - 0s 75us/step - loss: 0.3661 - acc: 0.8471\n",
            "Epoch 165/300\n",
            "242/242 [==============================] - 0s 67us/step - loss: 0.3556 - acc: 0.8388\n",
            "Epoch 166/300\n",
            "242/242 [==============================] - 0s 83us/step - loss: 0.3609 - acc: 0.8430\n",
            "Epoch 167/300\n",
            "242/242 [==============================] - 0s 156us/step - loss: 0.4187 - acc: 0.8223\n",
            "Epoch 168/300\n",
            "242/242 [==============================] - 0s 81us/step - loss: 0.4319 - acc: 0.7893\n",
            "Epoch 169/300\n",
            "242/242 [==============================] - 0s 98us/step - loss: 0.3658 - acc: 0.8471\n",
            "Epoch 170/300\n",
            "242/242 [==============================] - 0s 106us/step - loss: 0.3592 - acc: 0.8430\n",
            "Epoch 171/300\n",
            "242/242 [==============================] - 0s 84us/step - loss: 0.3606 - acc: 0.8430\n",
            "Epoch 172/300\n",
            "242/242 [==============================] - 0s 84us/step - loss: 0.3514 - acc: 0.8471\n",
            "Epoch 173/300\n",
            "242/242 [==============================] - 0s 72us/step - loss: 0.3736 - acc: 0.8347\n",
            "Epoch 174/300\n",
            "242/242 [==============================] - 0s 106us/step - loss: 0.3565 - acc: 0.8471\n",
            "Epoch 175/300\n",
            "242/242 [==============================] - 0s 63us/step - loss: 0.3805 - acc: 0.8388\n",
            "Epoch 176/300\n",
            "242/242 [==============================] - 0s 73us/step - loss: 0.3581 - acc: 0.8471\n",
            "Epoch 177/300\n",
            "242/242 [==============================] - 0s 77us/step - loss: 0.3753 - acc: 0.8471\n",
            "Epoch 178/300\n",
            "242/242 [==============================] - 0s 76us/step - loss: 0.3598 - acc: 0.8554\n",
            "Epoch 179/300\n",
            "242/242 [==============================] - 0s 76us/step - loss: 0.3634 - acc: 0.8471\n",
            "Epoch 180/300\n",
            "242/242 [==============================] - 0s 80us/step - loss: 0.3574 - acc: 0.8430\n",
            "Epoch 181/300\n",
            "242/242 [==============================] - 0s 95us/step - loss: 0.3673 - acc: 0.8430\n",
            "Epoch 182/300\n",
            "242/242 [==============================] - 0s 92us/step - loss: 0.3576 - acc: 0.8430\n",
            "Epoch 183/300\n",
            "242/242 [==============================] - 0s 79us/step - loss: 0.3568 - acc: 0.8430\n",
            "Epoch 184/300\n",
            "242/242 [==============================] - 0s 78us/step - loss: 0.3690 - acc: 0.8388\n",
            "Epoch 185/300\n",
            "242/242 [==============================] - 0s 64us/step - loss: 0.3833 - acc: 0.8388\n",
            "Epoch 186/300\n",
            "242/242 [==============================] - 0s 90us/step - loss: 0.3609 - acc: 0.8388\n",
            "Epoch 187/300\n",
            "242/242 [==============================] - 0s 71us/step - loss: 0.3641 - acc: 0.8512\n",
            "Epoch 188/300\n",
            "242/242 [==============================] - 0s 84us/step - loss: 0.3703 - acc: 0.8264\n",
            "Epoch 189/300\n",
            "242/242 [==============================] - 0s 85us/step - loss: 0.3767 - acc: 0.8430\n",
            "Epoch 190/300\n",
            "242/242 [==============================] - 0s 79us/step - loss: 0.3817 - acc: 0.8554\n",
            "Epoch 191/300\n",
            "242/242 [==============================] - 0s 81us/step - loss: 0.3600 - acc: 0.8306\n",
            "Epoch 192/300\n",
            "242/242 [==============================] - 0s 92us/step - loss: 0.3758 - acc: 0.8430\n",
            "Epoch 193/300\n",
            "242/242 [==============================] - 0s 67us/step - loss: 0.3691 - acc: 0.8347\n",
            "Epoch 194/300\n",
            "242/242 [==============================] - 0s 70us/step - loss: 0.3683 - acc: 0.8264\n",
            "Epoch 195/300\n",
            "242/242 [==============================] - 0s 69us/step - loss: 0.3553 - acc: 0.8595\n",
            "Epoch 196/300\n",
            "242/242 [==============================] - 0s 81us/step - loss: 0.3680 - acc: 0.8306\n",
            "Epoch 197/300\n",
            "242/242 [==============================] - 0s 96us/step - loss: 0.3805 - acc: 0.8306\n",
            "Epoch 198/300\n",
            "242/242 [==============================] - 0s 76us/step - loss: 0.3854 - acc: 0.8306\n",
            "Epoch 199/300\n",
            "242/242 [==============================] - 0s 75us/step - loss: 0.3789 - acc: 0.8223\n",
            "Epoch 200/300\n",
            "242/242 [==============================] - 0s 78us/step - loss: 0.4173 - acc: 0.8223\n",
            "Epoch 201/300\n",
            "242/242 [==============================] - 0s 65us/step - loss: 0.3737 - acc: 0.8347\n",
            "Epoch 202/300\n",
            "242/242 [==============================] - 0s 76us/step - loss: 0.3594 - acc: 0.8306\n",
            "Epoch 203/300\n",
            "242/242 [==============================] - 0s 65us/step - loss: 0.3510 - acc: 0.8554\n",
            "Epoch 204/300\n",
            "242/242 [==============================] - 0s 65us/step - loss: 0.3639 - acc: 0.8554\n",
            "Epoch 205/300\n",
            "242/242 [==============================] - 0s 72us/step - loss: 0.3567 - acc: 0.8471\n",
            "Epoch 206/300\n",
            "242/242 [==============================] - 0s 61us/step - loss: 0.3543 - acc: 0.8388\n",
            "Epoch 207/300\n",
            "242/242 [==============================] - 0s 90us/step - loss: 0.3556 - acc: 0.8388\n",
            "Epoch 208/300\n",
            "242/242 [==============================] - 0s 76us/step - loss: 0.3694 - acc: 0.8388\n",
            "Epoch 209/300\n",
            "242/242 [==============================] - 0s 73us/step - loss: 0.3781 - acc: 0.8347\n",
            "Epoch 210/300\n",
            "242/242 [==============================] - 0s 82us/step - loss: 0.3734 - acc: 0.8388\n",
            "Epoch 211/300\n",
            "242/242 [==============================] - 0s 68us/step - loss: 0.3684 - acc: 0.8347\n",
            "Epoch 212/300\n",
            "242/242 [==============================] - 0s 71us/step - loss: 0.3610 - acc: 0.8471\n",
            "Epoch 213/300\n",
            "242/242 [==============================] - 0s 68us/step - loss: 0.3633 - acc: 0.8306\n",
            "Epoch 214/300\n",
            "242/242 [==============================] - 0s 81us/step - loss: 0.3569 - acc: 0.8430\n",
            "Epoch 215/300\n",
            "242/242 [==============================] - 0s 85us/step - loss: 0.3861 - acc: 0.8306\n",
            "Epoch 216/300\n",
            "242/242 [==============================] - 0s 68us/step - loss: 0.3655 - acc: 0.8388\n",
            "Epoch 217/300\n",
            "242/242 [==============================] - 0s 73us/step - loss: 0.4096 - acc: 0.8223\n",
            "Epoch 218/300\n",
            "242/242 [==============================] - 0s 53us/step - loss: 0.3749 - acc: 0.8306\n",
            "Epoch 219/300\n",
            "242/242 [==============================] - 0s 70us/step - loss: 0.3785 - acc: 0.8471\n",
            "Epoch 220/300\n",
            "242/242 [==============================] - 0s 69us/step - loss: 0.3546 - acc: 0.8430\n",
            "Epoch 221/300\n",
            "242/242 [==============================] - 0s 63us/step - loss: 0.3683 - acc: 0.8182\n",
            "Epoch 222/300\n",
            "242/242 [==============================] - 0s 71us/step - loss: 0.4024 - acc: 0.8306\n",
            "Epoch 223/300\n",
            "242/242 [==============================] - 0s 66us/step - loss: 0.3553 - acc: 0.8512\n",
            "Epoch 224/300\n",
            "242/242 [==============================] - 0s 84us/step - loss: 0.3684 - acc: 0.8347\n",
            "Epoch 225/300\n",
            "242/242 [==============================] - 0s 102us/step - loss: 0.3810 - acc: 0.8306\n",
            "Epoch 226/300\n",
            "242/242 [==============================] - 0s 72us/step - loss: 0.3617 - acc: 0.8430\n",
            "Epoch 227/300\n",
            "242/242 [==============================] - 0s 83us/step - loss: 0.3649 - acc: 0.8388\n",
            "Epoch 228/300\n",
            "242/242 [==============================] - 0s 75us/step - loss: 0.3832 - acc: 0.8388\n",
            "Epoch 229/300\n",
            "242/242 [==============================] - 0s 70us/step - loss: 0.4159 - acc: 0.7934\n",
            "Epoch 230/300\n",
            "242/242 [==============================] - 0s 101us/step - loss: 0.4289 - acc: 0.8182\n",
            "Epoch 231/300\n",
            "242/242 [==============================] - 0s 86us/step - loss: 0.4442 - acc: 0.7645\n",
            "Epoch 232/300\n",
            "242/242 [==============================] - 0s 92us/step - loss: 0.3845 - acc: 0.8140\n",
            "Epoch 233/300\n",
            "242/242 [==============================] - 0s 93us/step - loss: 0.3731 - acc: 0.8388\n",
            "Epoch 234/300\n",
            "242/242 [==============================] - 0s 74us/step - loss: 0.3864 - acc: 0.8471\n",
            "Epoch 235/300\n",
            "242/242 [==============================] - 0s 66us/step - loss: 0.4208 - acc: 0.7934\n",
            "Epoch 236/300\n",
            "242/242 [==============================] - 0s 78us/step - loss: 0.3791 - acc: 0.8264\n",
            "Epoch 237/300\n",
            "242/242 [==============================] - 0s 76us/step - loss: 0.3774 - acc: 0.8430\n",
            "Epoch 238/300\n",
            "242/242 [==============================] - 0s 83us/step - loss: 0.4116 - acc: 0.8182\n",
            "Epoch 239/300\n",
            "242/242 [==============================] - 0s 93us/step - loss: 0.3528 - acc: 0.8554\n",
            "Epoch 240/300\n",
            "242/242 [==============================] - 0s 96us/step - loss: 0.3501 - acc: 0.8430\n",
            "Epoch 241/300\n",
            "242/242 [==============================] - 0s 82us/step - loss: 0.3512 - acc: 0.8471\n",
            "Epoch 242/300\n",
            "242/242 [==============================] - 0s 73us/step - loss: 0.3673 - acc: 0.8347\n",
            "Epoch 243/300\n",
            "242/242 [==============================] - 0s 78us/step - loss: 0.3475 - acc: 0.8388\n",
            "Epoch 244/300\n",
            "242/242 [==============================] - 0s 75us/step - loss: 0.3679 - acc: 0.8264\n",
            "Epoch 245/300\n",
            "242/242 [==============================] - 0s 84us/step - loss: 0.3747 - acc: 0.8264\n",
            "Epoch 246/300\n",
            "242/242 [==============================] - 0s 84us/step - loss: 0.3640 - acc: 0.8347\n",
            "Epoch 247/300\n",
            "242/242 [==============================] - 0s 80us/step - loss: 0.3866 - acc: 0.8347\n",
            "Epoch 248/300\n",
            "242/242 [==============================] - 0s 71us/step - loss: 0.3608 - acc: 0.8388\n",
            "Epoch 249/300\n",
            "242/242 [==============================] - 0s 72us/step - loss: 0.3974 - acc: 0.8264\n",
            "Epoch 250/300\n",
            "242/242 [==============================] - 0s 98us/step - loss: 0.3691 - acc: 0.8388\n",
            "Epoch 251/300\n",
            "242/242 [==============================] - 0s 83us/step - loss: 0.3781 - acc: 0.8099\n",
            "Epoch 252/300\n",
            "242/242 [==============================] - 0s 75us/step - loss: 0.3463 - acc: 0.8636\n",
            "Epoch 253/300\n",
            "242/242 [==============================] - 0s 84us/step - loss: 0.4047 - acc: 0.8347\n",
            "Epoch 254/300\n",
            "242/242 [==============================] - 0s 83us/step - loss: 0.3816 - acc: 0.8182\n",
            "Epoch 255/300\n",
            "242/242 [==============================] - 0s 80us/step - loss: 0.3731 - acc: 0.8017\n",
            "Epoch 256/300\n",
            "242/242 [==============================] - 0s 65us/step - loss: 0.3552 - acc: 0.8182\n",
            "Epoch 257/300\n",
            "242/242 [==============================] - 0s 74us/step - loss: 0.3644 - acc: 0.8471\n",
            "Epoch 258/300\n",
            "242/242 [==============================] - 0s 63us/step - loss: 0.3798 - acc: 0.8182\n",
            "Epoch 259/300\n",
            "242/242 [==============================] - 0s 108us/step - loss: 0.3618 - acc: 0.8388\n",
            "Epoch 260/300\n",
            "242/242 [==============================] - 0s 98us/step - loss: 0.3951 - acc: 0.8306\n",
            "Epoch 261/300\n",
            "242/242 [==============================] - 0s 91us/step - loss: 0.3730 - acc: 0.8306\n",
            "Epoch 262/300\n",
            "242/242 [==============================] - 0s 71us/step - loss: 0.3502 - acc: 0.8430\n",
            "Epoch 263/300\n",
            "242/242 [==============================] - 0s 80us/step - loss: 0.3580 - acc: 0.8347\n",
            "Epoch 264/300\n",
            "242/242 [==============================] - 0s 84us/step - loss: 0.3536 - acc: 0.8306\n",
            "Epoch 265/300\n",
            "242/242 [==============================] - 0s 79us/step - loss: 0.3530 - acc: 0.8512\n",
            "Epoch 266/300\n",
            "242/242 [==============================] - 0s 62us/step - loss: 0.3510 - acc: 0.8471\n",
            "Epoch 267/300\n",
            "242/242 [==============================] - 0s 76us/step - loss: 0.3579 - acc: 0.8182\n",
            "Epoch 268/300\n",
            "242/242 [==============================] - 0s 90us/step - loss: 0.3756 - acc: 0.8347\n",
            "Epoch 269/300\n",
            "242/242 [==============================] - 0s 100us/step - loss: 0.3874 - acc: 0.8347\n",
            "Epoch 270/300\n",
            "242/242 [==============================] - 0s 89us/step - loss: 0.3800 - acc: 0.7975\n",
            "Epoch 271/300\n",
            "242/242 [==============================] - 0s 79us/step - loss: 0.4207 - acc: 0.8099\n",
            "Epoch 272/300\n",
            "242/242 [==============================] - 0s 67us/step - loss: 0.3911 - acc: 0.8140\n",
            "Epoch 273/300\n",
            "242/242 [==============================] - 0s 92us/step - loss: 0.4246 - acc: 0.7851\n",
            "Epoch 274/300\n",
            "242/242 [==============================] - 0s 79us/step - loss: 0.4264 - acc: 0.8099\n",
            "Epoch 275/300\n",
            "242/242 [==============================] - 0s 80us/step - loss: 0.4339 - acc: 0.8058\n",
            "Epoch 276/300\n",
            "242/242 [==============================] - 0s 97us/step - loss: 0.3695 - acc: 0.8554\n",
            "Epoch 277/300\n",
            "242/242 [==============================] - 0s 79us/step - loss: 0.3565 - acc: 0.8347\n",
            "Epoch 278/300\n",
            "242/242 [==============================] - 0s 98us/step - loss: 0.3590 - acc: 0.8554\n",
            "Epoch 279/300\n",
            "242/242 [==============================] - 0s 92us/step - loss: 0.3731 - acc: 0.8182\n",
            "Epoch 280/300\n",
            "242/242 [==============================] - 0s 69us/step - loss: 0.3617 - acc: 0.8388\n",
            "Epoch 281/300\n",
            "242/242 [==============================] - 0s 69us/step - loss: 0.3478 - acc: 0.8347\n",
            "Epoch 282/300\n",
            "242/242 [==============================] - 0s 60us/step - loss: 0.3623 - acc: 0.8430\n",
            "Epoch 283/300\n",
            "242/242 [==============================] - 0s 81us/step - loss: 0.3495 - acc: 0.8430\n",
            "Epoch 284/300\n",
            "242/242 [==============================] - 0s 115us/step - loss: 0.3542 - acc: 0.8595\n",
            "Epoch 285/300\n",
            "242/242 [==============================] - 0s 74us/step - loss: 0.3486 - acc: 0.8512\n",
            "Epoch 286/300\n",
            "242/242 [==============================] - 0s 69us/step - loss: 0.3515 - acc: 0.8554\n",
            "Epoch 287/300\n",
            "242/242 [==============================] - 0s 68us/step - loss: 0.3489 - acc: 0.8388\n",
            "Epoch 288/300\n",
            "242/242 [==============================] - 0s 101us/step - loss: 0.3635 - acc: 0.8347\n",
            "Epoch 289/300\n",
            "242/242 [==============================] - 0s 88us/step - loss: 0.3507 - acc: 0.8388\n",
            "Epoch 290/300\n",
            "242/242 [==============================] - 0s 93us/step - loss: 0.3575 - acc: 0.8471\n",
            "Epoch 291/300\n",
            "242/242 [==============================] - 0s 93us/step - loss: 0.3589 - acc: 0.8306\n",
            "Epoch 292/300\n",
            "242/242 [==============================] - 0s 83us/step - loss: 0.3654 - acc: 0.8223\n",
            "Epoch 293/300\n",
            "242/242 [==============================] - 0s 75us/step - loss: 0.3569 - acc: 0.8388\n",
            "Epoch 294/300\n",
            "242/242 [==============================] - 0s 63us/step - loss: 0.3584 - acc: 0.8347\n",
            "Epoch 295/300\n",
            "242/242 [==============================] - 0s 97us/step - loss: 0.3649 - acc: 0.8430\n",
            "Epoch 296/300\n",
            "242/242 [==============================] - 0s 73us/step - loss: 0.3486 - acc: 0.8388\n",
            "Epoch 297/300\n",
            "242/242 [==============================] - 0s 68us/step - loss: 0.4046 - acc: 0.8223\n",
            "Epoch 298/300\n",
            "242/242 [==============================] - 0s 74us/step - loss: 0.3608 - acc: 0.8595\n",
            "Epoch 299/300\n",
            "242/242 [==============================] - 0s 64us/step - loss: 0.3527 - acc: 0.8471\n",
            "Epoch 300/300\n",
            "242/242 [==============================] - 0s 73us/step - loss: 0.3620 - acc: 0.8430\n"
          ],
          "name": "stdout"
        },
        {
          "output_type": "execute_result",
          "data": {
            "text/plain": [
              "<keras.callbacks.History at 0x7fc42132a5f8>"
            ]
          },
          "metadata": {
            "tags": []
          },
          "execution_count": 64
        }
      ]
    },
    {
      "cell_type": "code",
      "metadata": {
        "id": "Vs3HCClN-288",
        "colab_type": "code",
        "colab": {}
      },
      "source": [
        "Y_pred_nn = model.predict(X_test)"
      ],
      "execution_count": 0,
      "outputs": []
    },
    {
      "cell_type": "code",
      "metadata": {
        "id": "Ppaky9pn-7HJ",
        "colab_type": "code",
        "outputId": "93911c6f-25f3-42d5-9b44-a6fa195c2f23",
        "colab": {
          "base_uri": "https://localhost:8080/",
          "height": 34
        }
      },
      "source": [
        "Y_pred_nn.shape"
      ],
      "execution_count": 0,
      "outputs": [
        {
          "output_type": "execute_result",
          "data": {
            "text/plain": [
              "(61, 1)"
            ]
          },
          "metadata": {
            "tags": []
          },
          "execution_count": 67
        }
      ]
    },
    {
      "cell_type": "code",
      "metadata": {
        "id": "Gur71Edf_BEP",
        "colab_type": "code",
        "colab": {}
      },
      "source": [
        "\n",
        "rounded = [round(x[0]) for x in Y_pred_nn]\n",
        "\n",
        "Y_pred_nn = rounded"
      ],
      "execution_count": 0,
      "outputs": []
    },
    {
      "cell_type": "code",
      "metadata": {
        "id": "3vPg7B3O_Dil",
        "colab_type": "code",
        "outputId": "e1b5690a-12df-4ae6-8b87-882d708199dd",
        "colab": {
          "base_uri": "https://localhost:8080/",
          "height": 34
        }
      },
      "source": [
        "score_nn = round(accuracy_score(Y_pred_nn,Y_test)*100,2)\n",
        "\n",
        "print(\"The accuracy score achieved using Neural Network is: \"+str(score_nn)+\" %\")"
      ],
      "execution_count": 0,
      "outputs": [
        {
          "output_type": "stream",
          "text": [
            "The accuracy score achieved using Neural Network is: 86.89 %\n"
          ],
          "name": "stdout"
        }
      ]
    },
    {
      "cell_type": "markdown",
      "metadata": {
        "id": "6RiYJhR8_JXD",
        "colab_type": "text"
      },
      "source": [
        "## Analysis on all algorithms"
      ]
    },
    {
      "cell_type": "code",
      "metadata": {
        "id": "Vq5VOzhW_Ix7",
        "colab_type": "code",
        "outputId": "760a5cf2-1f35-4a85-fc76-2469a99163aa",
        "colab": {
          "base_uri": "https://localhost:8080/",
          "height": 136
        }
      },
      "source": [
        "\n",
        "scores = [score_lr,score_nb,score_svm,score_knn,score_dt,score_rf,score_nn]\n",
        "algorithms = [\"Logistic Regression\",\"Naive Bayes\",\"Support Vector Machine\",\"K-Nearest Neighbors\",\"Decision Tree\",\"Random Forest\",\"Neural Network\"]    \n",
        "\n",
        "for i in range(len(algorithms)):\n",
        "    print(\"The accuracy score achieved using \"+algorithms[i]+\" is: \"+str(scores[i])+\" %\")"
      ],
      "execution_count": 0,
      "outputs": [
        {
          "output_type": "stream",
          "text": [
            "The accuracy score achieved using Logistic Regression is: 85.25 %\n",
            "The accuracy score achieved using Naive Bayes is: 85.25 %\n",
            "The accuracy score achieved using Support Vector Machine is: 81.97 %\n",
            "The accuracy score achieved using K-Nearest Neighbors is: 67.21 %\n",
            "The accuracy score achieved using Decision Tree is: 81.97 %\n",
            "The accuracy score achieved using Random Forest is: 95.08 %\n",
            "The accuracy score achieved using Neural Network is: 86.89 %\n"
          ],
          "name": "stdout"
        }
      ]
    },
    {
      "cell_type": "code",
      "metadata": {
        "id": "YLgATcw7_VKu",
        "colab_type": "code",
        "outputId": "d17f776b-99fa-4edc-f196-e40aaf7856d7",
        "colab": {
          "base_uri": "https://localhost:8080/",
          "height": 525
        }
      },
      "source": [
        "sns.set(rc={'figure.figsize':(15,8)})\n",
        "plt.xlabel(\"Algorithms\")\n",
        "plt.ylabel(\"Accuracy score\")\n",
        "\n",
        "sns.barplot(algorithms,scores)"
      ],
      "execution_count": 0,
      "outputs": [
        {
          "output_type": "execute_result",
          "data": {
            "text/plain": [
              "<matplotlib.axes._subplots.AxesSubplot at 0x7fc406a4fe80>"
            ]
          },
          "metadata": {
            "tags": []
          },
          "execution_count": 72
        },
        {
          "output_type": "display_data",
          "data": {
            "image/png": "[encoded data removed]",
            "text/plain": [
              "<Figure size 1080x576 with 1 Axes>"
            ]
          },
          "metadata": {
            "tags": []
          }
        }
      ]
    }
  ]
}